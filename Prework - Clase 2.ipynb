{
 "cells": [
  {
   "cell_type": "markdown",
   "metadata": {
    "id": "QAYqBRqUJP1M"
   },
   "source": [
    "# **Dia 2**"
   ]
  },
  {
   "cell_type": "markdown",
   "metadata": {
    "id": "eBzrOek05HJG"
   },
   "source": [
    "#  **Listas en Python**\n"
   ]
  },
  {
   "cell_type": "markdown",
   "metadata": {
    "id": "iN1MWlZz5abu"
   },
   "source": [
    "Una lista es una colección de elementos ordenados que puede contener datos de diferentes tipos. Es mutable, lo que significa que sus elementos pueden cambiarse después de ser creada.\n",
    "las listas pueden contener cualquier tipo de dato, incluso combinados.\n"
   ]
  },
  {
   "cell_type": "code",
   "execution_count": 91,
   "metadata": {
    "colab": {
     "base_uri": "https://localhost:8080/"
    },
    "executionInfo": {
     "elapsed": 354,
     "status": "ok",
     "timestamp": 1736962758752,
     "user": {
      "displayName": "Alessandro Batini",
      "userId": "00936546318751086458"
     },
     "user_tz": -60
    },
    "id": "1m2troyE5f0z",
    "outputId": "0241d955-cc89-425a-a5e5-ce57dfdf5e65"
   },
   "outputs": [
    {
     "name": "stdout",
     "output_type": "stream",
     "text": [
      "[1, 2, 3, 'hola', True]\n",
      "<class 'list'>\n"
     ]
    }
   ],
   "source": [
    "mi_lista = [1, 2, 3, \"hola\", True]\n",
    "print(mi_lista)\n",
    "print(type(mi_lista))"
   ]
  },
  {
   "cell_type": "markdown",
   "metadata": {
    "id": "twYiDHiO_-8S"
   },
   "source": [
    "# Acceso a elementos de una lista\n"
   ]
  },
  {
   "cell_type": "markdown",
   "metadata": {
    "id": "WM1zHZq9AFmk"
   },
   "source": [
    "Puedes acceder a un elemento utilizando su posición (índice).\n",
    "- El índice comienza en 0 para el primer elemento.\n",
    "- Los índices negativos acceden desde el final hacia el principio."
   ]
  },
  {
   "cell_type": "code",
   "execution_count": 92,
   "metadata": {
    "colab": {
     "base_uri": "https://localhost:8080/"
    },
    "executionInfo": {
     "elapsed": 222,
     "status": "ok",
     "timestamp": 1736963565731,
     "user": {
      "displayName": "Alessandro Batini",
      "userId": "00936546318751086458"
     },
     "user_tz": -60
    },
    "id": "LyFuIo7zAKgP",
    "outputId": "921ae6ed-7796-4556-e312-db30608ff94c"
   },
   "outputs": [
    {
     "name": "stdout",
     "output_type": "stream",
     "text": [
      "manzana\n",
      "pera\n",
      "mango\n"
     ]
    }
   ],
   "source": [
    "frutas = [\"manzana\", \"pera\", \"plátano\", \"cereza\", \"uva\", \"kiwi\", \"naranja\", \"sandía\", \"fresa\", \"mango\"]\n",
    "\n",
    "# Acceder a elementos\n",
    "print(frutas[0])  # Primer elemento\n",
    "print(frutas[1])  #Segundo elemento\n",
    "print(frutas[-1]) # Último elemento"
   ]
  },
  {
   "cell_type": "code",
   "execution_count": 93,
   "metadata": {},
   "outputs": [
    {
     "name": "stdout",
     "output_type": "stream",
     "text": [
      "[2, 2000, 60]\n"
     ]
    }
   ],
   "source": [
    "# Modificar elementos\n",
    "edades = [2, 45, 60]\n",
    "edades[1] = 2000  # Cambiar el segundo elemento\n",
    "print(edades)"
   ]
  },
  {
   "cell_type": "markdown",
   "metadata": {
    "id": "XZKqTs6wBbwM"
   },
   "source": [
    "# Métodos importantes de las listas"
   ]
  },
  {
   "cell_type": "markdown",
   "metadata": {},
   "source": [
    "- Agregar elementos a la lista"
   ]
  },
  {
   "cell_type": "code",
   "execution_count": null,
   "metadata": {
    "colab": {
     "base_uri": "https://localhost:8080/"
    },
    "executionInfo": {
     "elapsed": 220,
     "status": "ok",
     "timestamp": 1736963784020,
     "user": {
      "displayName": "Alessandro Batini",
      "userId": "00936546318751086458"
     },
     "user_tz": -60
    },
    "id": "P_4mdvoRBimc",
    "outputId": "d6a387bd-dfa8-4083-9019-26b7871661dc"
   },
   "outputs": [
    {
     "name": "stdout",
     "output_type": "stream",
     "text": [
      "[2, 2000, 60, 4]\n"
     ]
    }
   ],
   "source": [
    "edades.append(4)  # Agrega un elemento al final\n",
    "print(edades)"
   ]
  },
  {
   "cell_type": "code",
   "execution_count": 95,
   "metadata": {},
   "outputs": [
    {
     "name": "stdout",
     "output_type": "stream",
     "text": [
      "[2, 2000, 60, 4, 5, 6, 4]\n"
     ]
    }
   ],
   "source": [
    "edades.extend([5, 6, 4 ])  # Agrega varios elementos de otra lista\n",
    "print(edades)"
   ]
  },
  {
   "cell_type": "code",
   "execution_count": 96,
   "metadata": {},
   "outputs": [
    {
     "name": "stdout",
     "output_type": "stream",
     "text": [
      "[2, 2000, 60, 4, 5, 6, 4, 8, 9, 5]\n"
     ]
    }
   ],
   "source": [
    "lista = [8,9,5]\n",
    "edades.extend(lista)  # Agrega varios elementos de otra lista guardada\n",
    "print(edades)"
   ]
  },
  {
   "cell_type": "markdown",
   "metadata": {},
   "source": [
    "- Eliminar elementos"
   ]
  },
  {
   "cell_type": "code",
   "execution_count": 97,
   "metadata": {
    "colab": {
     "base_uri": "https://localhost:8080/"
    },
    "executionInfo": {
     "elapsed": 223,
     "status": "ok",
     "timestamp": 1736964031909,
     "user": {
      "displayName": "Alessandro Batini",
      "userId": "00936546318751086458"
     },
     "user_tz": -60
    },
    "id": "urpCuM_SCTQn",
    "outputId": "952dc647-08f0-466c-8f0c-d9d971b443ef"
   },
   "outputs": [
    {
     "name": "stdout",
     "output_type": "stream",
     "text": [
      "[2, 2000, 60, 4, 5, 6, 4, 8, 9]\n"
     ]
    }
   ],
   "source": [
    "edades.pop()  # Elimina el último elemento\n",
    "print(edades)"
   ]
  },
  {
   "cell_type": "code",
   "execution_count": 98,
   "metadata": {},
   "outputs": [
    {
     "name": "stdout",
     "output_type": "stream",
     "text": [
      "[2, 2000, 60, 5, 6, 4, 8, 9]\n"
     ]
    }
   ],
   "source": [
    "edades.remove(4)  # Elimina el primer elemento que coincida con 5\n",
    "print(edades)"
   ]
  },
  {
   "cell_type": "code",
   "execution_count": 99,
   "metadata": {},
   "outputs": [
    {
     "name": "stdout",
     "output_type": "stream",
     "text": [
      "[2000, 60, 5, 6, 4, 8, 9]\n"
     ]
    }
   ],
   "source": [
    "del edades[0]  # Elimina el primer elemento\n",
    "print(edades)"
   ]
  },
  {
   "cell_type": "markdown",
   "metadata": {},
   "source": [
    "- Otros metodos utiles"
   ]
  },
  {
   "cell_type": "code",
   "execution_count": 137,
   "metadata": {
    "colab": {
     "base_uri": "https://localhost:8080/"
    },
    "executionInfo": {
     "elapsed": 231,
     "status": "ok",
     "timestamp": 1736964081981,
     "user": {
      "displayName": "Alessandro Batini",
      "userId": "00936546318751086458"
     },
     "user_tz": -60
    },
    "id": "Zn23kIOtDGsu",
    "outputId": "3a7e126b-f369-4617-fea9-a01ffa4a878c"
   },
   "outputs": [
    {
     "data": {
      "text/plain": [
       "7"
      ]
     },
     "execution_count": 137,
     "metadata": {},
     "output_type": "execute_result"
    }
   ],
   "source": [
    "len(edades)  # Longitud de la lista"
   ]
  },
  {
   "cell_type": "code",
   "execution_count": 138,
   "metadata": {},
   "outputs": [
    {
     "data": {
      "text/plain": [
       "0"
      ]
     },
     "execution_count": 138,
     "metadata": {},
     "output_type": "execute_result"
    }
   ],
   "source": [
    "edades.count(2)  # Cuenta las veces que aparece un elemento"
   ]
  },
  {
   "cell_type": "code",
   "execution_count": 139,
   "metadata": {},
   "outputs": [
    {
     "data": {
      "text/plain": [
       "2"
      ]
     },
     "execution_count": 139,
     "metadata": {},
     "output_type": "execute_result"
    }
   ],
   "source": [
    "frutas.index(\"plátano\") # Indica el indice del elemento deseado"
   ]
  },
  {
   "cell_type": "code",
   "execution_count": 102,
   "metadata": {},
   "outputs": [
    {
     "name": "stdout",
     "output_type": "stream",
     "text": [
      "['cereza', 'fresa', 'kiwi', 'mango', 'manzana', 'naranja', 'pera', 'plátano', 'sandía', 'uva']\n"
     ]
    }
   ],
   "source": [
    "frutas.sort()  # Ordena la lista alfabéticamente\n",
    "print(frutas)"
   ]
  },
  {
   "cell_type": "code",
   "execution_count": null,
   "metadata": {},
   "outputs": [
    {
     "name": "stdout",
     "output_type": "stream",
     "text": [
      "['uva', 'sandía', 'plátano', 'pera', 'naranja', 'manzana', 'mango', 'kiwi', 'fresa', 'cereza']\n"
     ]
    }
   ],
   "source": [
    "frutas.reverse()  # Invierte el orden de la lista\n",
    "print(frutas)"
   ]
  },
  {
   "cell_type": "markdown",
   "metadata": {},
   "source": [
    "# Listas anidadas\n",
    "\n",
    "Una lista puede contener otras listas dentro de ella."
   ]
  },
  {
   "cell_type": "code",
   "execution_count": 104,
   "metadata": {},
   "outputs": [
    {
     "name": "stdout",
     "output_type": "stream",
     "text": [
      "[[1, 2, 3], [4, 5, 6], [7, 8, 9]]\n"
     ]
    }
   ],
   "source": [
    "lista_anidada = [[1, 2, 3], [4, 5, 6], [7, 8, 9]]\n",
    "print(lista_anidada)"
   ]
  },
  {
   "cell_type": "code",
   "execution_count": 105,
   "metadata": {},
   "outputs": [
    {
     "name": "stdout",
     "output_type": "stream",
     "text": [
      "[1, 2, 3]\n"
     ]
    }
   ],
   "source": [
    "print(lista_anidada[0])  # Primera sublista"
   ]
  },
  {
   "cell_type": "code",
   "execution_count": 106,
   "metadata": {},
   "outputs": [
    {
     "name": "stdout",
     "output_type": "stream",
     "text": [
      "6\n"
     ]
    }
   ],
   "source": [
    "print(lista_anidada[1][2])  # Acceder al tercer elemento de la segunda sublista"
   ]
  },
  {
   "cell_type": "markdown",
   "metadata": {
    "id": "rNg3E0jJG10Z"
   },
   "source": [
    "# Iteración sobre listas"
   ]
  },
  {
   "cell_type": "markdown",
   "metadata": {
    "id": "H_7OqaqhG7Qt"
   },
   "source": [
    "Iterar sobre una lista significa recorrer sus elementos uno por uno, permitiendo ejecutar operaciones sobre ellos. \n",
    "Esto se logra utilizando bucles como `for`, que nos permite recorrer toda la lista de manera sencilla."
   ]
  },
  {
   "cell_type": "code",
   "execution_count": 112,
   "metadata": {},
   "outputs": [
    {
     "name": "stdout",
     "output_type": "stream",
     "text": [
      "uva\n",
      "sandía\n",
      "plátano\n",
      "pera\n",
      "naranja\n",
      "manzana\n",
      "mango\n",
      "kiwi\n",
      "fresa\n",
      "cereza\n"
     ]
    }
   ],
   "source": [
    "# Usando un bucle for\n",
    "for palabra in frutas:\n",
    "    print(palabra)"
   ]
  },
  {
   "cell_type": "code",
   "execution_count": 113,
   "metadata": {
    "colab": {
     "base_uri": "https://localhost:8080/"
    },
    "executionInfo": {
     "elapsed": 203,
     "status": "ok",
     "timestamp": 1736964569518,
     "user": {
      "displayName": "Alessandro Batini",
      "userId": "00936546318751086458"
     },
     "user_tz": -60
    },
    "id": "LUeogsa7HDYy",
    "outputId": "7eb46701-2814-41b4-9ed5-05df71f54838"
   },
   "outputs": [
    {
     "name": "stdout",
     "output_type": "stream",
     "text": [
      "Hay 5 palabras con más de 5 letras.\n"
     ]
    }
   ],
   "source": [
    "# Contar cuántas palabras tienen más de 5 letras\n",
    "contador = 0\n",
    "for palabra in frutas:\n",
    "    if len(palabra) > 5:\n",
    "        contador += 1\n",
    "print(f\"Hay {contador} palabras con más de 5 letras.\")\n"
   ]
  },
  {
   "cell_type": "markdown",
   "metadata": {},
   "source": [
    "# Ejercicio Ejemplo"
   ]
  },
  {
   "cell_type": "code",
   "execution_count": 119,
   "metadata": {
    "colab": {
     "base_uri": "https://localhost:8080/"
    },
    "executionInfo": {
     "elapsed": 206,
     "status": "ok",
     "timestamp": 1736964663073,
     "user": {
      "displayName": "Alessandro Batini",
      "userId": "00936546318751086458"
     },
     "user_tz": -60
    },
    "id": "tShN-tWqHj3Z",
    "outputId": "6fdd1c6d-52f8-4285-f75b-fc35c2cbcae9"
   },
   "outputs": [
    {
     "name": "stdout",
     "output_type": "stream",
     "text": [
      "0\n",
      "2\n",
      "4\n",
      "6\n",
      "8\n"
     ]
    }
   ],
   "source": [
    "# Uso de range()\n",
    "for i in range(0, 10, 2): # range(start, stop, step) genera números desde start hasta stop saltando 2\n",
    "    print(i)\n"
   ]
  },
  {
   "cell_type": "code",
   "execution_count": 133,
   "metadata": {
    "colab": {
     "base_uri": "https://localhost:8080/"
    },
    "executionInfo": {
     "elapsed": 180,
     "status": "ok",
     "timestamp": 1736964989787,
     "user": {
      "displayName": "Alessandro Batini",
      "userId": "00936546318751086458"
     },
     "user_tz": -60
    },
    "id": "gEnXKhkzHzub",
    "outputId": "78183b1f-bbd5-4b1a-bb1f-28255fdd0d4b"
   },
   "outputs": [
    {
     "name": "stdout",
     "output_type": "stream",
     "text": [
      "El dado ha lanzado: 6\n",
      "El dado ha lanzado: 6\n",
      "El dado ha lanzado: 4\n",
      "El dado ha lanzado: 5\n",
      "El dado ha lanzado: 5\n",
      "El dado ha lanzado: 3\n",
      "La suma total es: 29\n"
     ]
    }
   ],
   "source": [
    "# Simulación de lanzamiento de un dado\n",
    "import random\n",
    "\n",
    "suma = 0\n",
    "for i in range(6):\n",
    "    dado = random.randint(1, 6)\n",
    "    print(f\"El dado ha lanzado: {dado}\")\n",
    "    suma += dado\n",
    "print(f\"La suma total es: {suma}\")\n"
   ]
  }
 ],
 "metadata": {
  "colab": {
   "authorship_tag": "ABX9TyOO+33pf6OMcu64xCNOXCzg",
   "provenance": []
  },
  "kernelspec": {
   "display_name": "Python 3",
   "name": "python3"
  },
  "language_info": {
   "codemirror_mode": {
    "name": "ipython",
    "version": 3
   },
   "file_extension": ".py",
   "mimetype": "text/x-python",
   "name": "python",
   "nbconvert_exporter": "python",
   "pygments_lexer": "ipython3",
   "version": "3.12.1"
  }
 },
 "nbformat": 4,
 "nbformat_minor": 0
}
