{
 "cells": [
  {
   "cell_type": "markdown",
   "metadata": {
    "id": "2drjNSYLhVdC"
   },
   "source": [
    "# **Dia 3**"
   ]
  },
  {
   "cell_type": "markdown",
   "metadata": {
    "id": "8-vBOiJqheSr"
   },
   "source": [
    "# **Funciones**"
   ]
  },
  {
   "cell_type": "markdown",
   "metadata": {
    "id": "sH7MZR3bhhuJ"
   },
   "source": [
    "Una función es un bloque de código reutilizable diseñado para realizar una tarea específica. Las funciones se declaran utilizando la palabra clave `def`, seguida del nombre de la función y paréntesis."
   ]
  },
  {
   "cell_type": "markdown",
   "metadata": {
    "id": "ClUaCSNjiuHp"
   },
   "source": [
    "#### Elementos clave de una función:\n",
    "- Nombre de la función.\n",
    "- Paréntesis (pueden incluir parámetros).\n",
    "- Bloque de código indentado (cuerpo de la función).\n"
   ]
  },
  {
   "cell_type": "code",
   "execution_count": 13,
   "metadata": {
    "colab": {
     "base_uri": "https://localhost:8080/"
    },
    "executionInfo": {
     "elapsed": 521,
     "status": "ok",
     "timestamp": 1737135633115,
     "user": {
      "displayName": "Alessandro Batini",
      "userId": "00936546318751086458"
     },
     "user_tz": -60
    },
    "id": "sJuY9lsviw4q",
    "outputId": "2ad45265-70ee-4d86-eea9-6f622cf677a7"
   },
   "outputs": [
    {
     "name": "stdout",
     "output_type": "stream",
     "text": [
      "hello world!\n"
     ]
    }
   ],
   "source": [
    "# Declaracion de una función simple\n",
    "def saludo():\n",
    "    print(\"hello world!\") #cuerpo de la funcion\n",
    "\n",
    "# Llamar la función\n",
    "saludo()"
   ]
  },
  {
   "cell_type": "markdown",
   "metadata": {},
   "source": [
    "Para ejecutar una función, se usa su nombre seguido de paréntesis. Si tiene parámetros, se pasan dentro de los paréntesis."
   ]
  },
  {
   "cell_type": "markdown",
   "metadata": {},
   "source": [
    "#### Parámetros y argumentos\n",
    "Los parámetros son variables que se definen en la función. Los argumentos son los valores concretos que se pasan al llamar la función.\n"
   ]
  },
  {
   "cell_type": "code",
   "execution_count": 1,
   "metadata": {},
   "outputs": [],
   "source": [
    "def calcular_area_rectangulo(base, altura):\n",
    "    area = base * altura\n",
    "    print(f\"El área del rectángulo es: {area}\")"
   ]
  },
  {
   "cell_type": "code",
   "execution_count": 2,
   "metadata": {},
   "outputs": [
    {
     "name": "stdout",
     "output_type": "stream",
     "text": [
      "El área del rectángulo es: 50\n",
      "El área del rectángulo es: 21\n"
     ]
    }
   ],
   "source": [
    "# Llamando la función con argumentos\n",
    "calcular_area_rectangulo(5, 10)\n",
    "calcular_area_rectangulo(7, 3)"
   ]
  },
  {
   "cell_type": "markdown",
   "metadata": {},
   "source": [
    "### Retorno de valores\n",
    "Algunas funciones devuelven un resultado con `return`, lo que permite reutilizar ese valor.\n"
   ]
  },
  {
   "cell_type": "code",
   "execution_count": 3,
   "metadata": {},
   "outputs": [
    {
     "name": "stdout",
     "output_type": "stream",
     "text": [
      "100 euros equivalen a 110.00 dólares.\n"
     ]
    }
   ],
   "source": [
    "def convertir_euros_dolares(euros, tasa_cambio):\n",
    "    dolares = euros * tasa_cambio\n",
    "    return dolares\n",
    "\n",
    "cantidad_dolares = convertir_euros_dolares(100, 1.10)\n",
    "print(f\"100 euros equivalen a {cantidad_dolares:.2f} dólares.\")"
   ]
  },
  {
   "cell_type": "markdown",
   "metadata": {
    "id": "BtAtLqfOFopx"
   },
   "source": [
    "# Alcance de las Variables Y Funciones"
   ]
  },
  {
   "cell_type": "markdown",
   "metadata": {
    "id": "Lwgc-DcEFtS6"
   },
   "source": [
    "El alcance determina dónde se puede acceder a una variable:\n",
    "- **Locales:** Definidas dentro de una función, solo accesibles ahí.\n",
    "- **Globales:** Definidas fuera de funciones, accesibles en todo el código."
   ]
  },
  {
   "cell_type": "code",
   "execution_count": 4,
   "metadata": {
    "colab": {
     "base_uri": "https://localhost:8080/"
    },
    "executionInfo": {
     "elapsed": 164,
     "status": "ok",
     "timestamp": 1737135976114,
     "user": {
      "displayName": "Alessandro Batini",
      "userId": "00936546318751086458"
     },
     "user_tz": -60
    },
    "id": "TnFxEogLC4Wm",
    "outputId": "6628efbf-cf10-4335-f156-4292b0d6da36"
   },
   "outputs": [
    {
     "name": "stdout",
     "output_type": "stream",
     "text": [
      "5\n"
     ]
    }
   ],
   "source": [
    "base = 5\n",
    "altura = 10\n",
    "def calcular_area_rectangulo():\n",
    "\n",
    "  area = base*altura\n",
    "  return area\n",
    "\n",
    "calcular_area_rectangulo()\n",
    "print(base)"
   ]
  },
  {
   "cell_type": "markdown",
   "metadata": {
    "id": "BxYk6WhDGEt3"
   },
   "source": [
    "Se recomienda evitar el uso de variables globales para reducir errores."
   ]
  },
  {
   "cell_type": "markdown",
   "metadata": {
    "id": "C0tYHF4YHVKN"
   },
   "source": [
    "Podemos tambien pasar las variables como argumentos de la funcion sin definirlas previamente. Los valores que pasaremos a la funcion al llamarla, se convierten a los argumentos que hemos pasado a la funcion a la hora de definirla."
   ]
  },
  {
   "cell_type": "code",
   "execution_count": 5,
   "metadata": {
    "colab": {
     "base_uri": "https://localhost:8080/"
    },
    "executionInfo": {
     "elapsed": 289,
     "status": "ok",
     "timestamp": 1737136305299,
     "user": {
      "displayName": "Alessandro Batini",
      "userId": "00936546318751086458"
     },
     "user_tz": -60
    },
    "id": "Emsus8AIixbh",
    "outputId": "865d44ad-b4cb-4c72-cfa1-e675b8043ecc"
   },
   "outputs": [
    {
     "name": "stdout",
     "output_type": "stream",
     "text": [
      "El area del rectangulo es: 40\n"
     ]
    }
   ],
   "source": [
    "def calcular_area_rectangulo(base, altura):\n",
    "    area = base * altura\n",
    "    print(f\"El area del rectangulo es: {area}\")\n",
    "\n",
    "calcular_area_rectangulo(4, 10) #5 y 10 se convierten en los argumentos que recibe la función.\n",
    "#print(area)"
   ]
  },
  {
   "cell_type": "markdown",
   "metadata": {},
   "source": [
    "Ejemplo del uso correcto de funciones:"
   ]
  },
  {
   "cell_type": "code",
   "execution_count": 6,
   "metadata": {
    "colab": {
     "base_uri": "https://localhost:8080/"
    },
    "executionInfo": {
     "elapsed": 165,
     "status": "ok",
     "timestamp": 1737136549020,
     "user": {
      "displayName": "Alessandro Batini",
      "userId": "00936546318751086458"
     },
     "user_tz": -60
    },
    "id": "w-6uMvI8Z_9H",
    "outputId": "2dbbd159-7c00-4e09-a08c-d4af97c8f2cf"
   },
   "outputs": [
    {
     "name": "stdout",
     "output_type": "stream",
     "text": [
      "100 EUROS = 110.00 $.\n",
      "75 EUROS = 84.00 $.\n",
      "50 EUROS = 54.50 $.\n"
     ]
    }
   ],
   "source": [
    "def convertir_euros_dolares(euros, tasa_cambio):\n",
    "    dolares = euros * tasa_cambio\n",
    "    print(f\"{euros} EUROS = {dolares:.2f} $.\")\n",
    "\n",
    "convertir_euros_dolares(100, 1.10)\n",
    "convertir_euros_dolares(75, 1.12)\n",
    "convertir_euros_dolares(50, 1.09)"
   ]
  },
  {
   "cell_type": "markdown",
   "metadata": {
    "id": "uZCbATINjTFG"
   },
   "source": [
    "# Combinar funciones (funciones anidadas)\n",
    "Las funciones anidadas son funciones definidas dentro del cuerpo de otra función. Esta práctica se emplea para organizar mejor el código.\n",
    "\n",
    "\n",
    "En proyectos grandes, ayuda a encapsular la lógica y evitar confusiones con nombres de funciones o variables globales.\n"
   ]
  },
  {
   "cell_type": "code",
   "execution_count": 7,
   "metadata": {
    "colab": {
     "base_uri": "https://localhost:8080/"
    },
    "executionInfo": {
     "elapsed": 176,
     "status": "ok",
     "timestamp": 1737136963083,
     "user": {
      "displayName": "Alessandro Batini",
      "userId": "00936546318751086458"
     },
     "user_tz": -60
    },
    "id": "kEgoO9R2luO-",
    "outputId": "15847da2-2f8a-49f3-bbf5-592b521ecd1f"
   },
   "outputs": [
    {
     "name": "stdout",
     "output_type": "stream",
     "text": [
      "El total de la factura es: 121.0\n"
     ]
    }
   ],
   "source": [
    "def agregar_impuesto(precio):\n",
    "    # Agrega un 21% de impuesto\n",
    "    return precio * 1.21\n",
    "\n",
    "def calcular_factura(precio_base):\n",
    "    total = agregar_impuesto(precio_base)\n",
    "    return total\n",
    "\n",
    "print(f\"El total de la factura es: {calcular_factura(100)}\")\n"
   ]
  },
  {
   "cell_type": "code",
   "execution_count": 8,
   "metadata": {
    "colab": {
     "base_uri": "https://localhost:8080/"
    },
    "executionInfo": {
     "elapsed": 178,
     "status": "ok",
     "timestamp": 1737137026946,
     "user": {
      "displayName": "Alessandro Batini",
      "userId": "00936546318751086458"
     },
     "user_tz": -60
    },
    "id": "KLvW-E_Fjlvu",
    "outputId": "c6562e23-f826-4aed-c988-d75772e592f6"
   },
   "outputs": [
    {
     "name": "stdout",
     "output_type": "stream",
     "text": [
      "El total de la factura es: 121.0\n"
     ]
    }
   ],
   "source": [
    "def calcular_factura(precio_base):\n",
    "    def agregar_impuesto(precio):\n",
    "\n",
    "        return precio * 1.21 #  21% de impuesto\n",
    "\n",
    "    total = agregar_impuesto(precio_base)\n",
    "    return total\n",
    "\n",
    "print(f\"El total de la factura es: {calcular_factura(100)}\")\n"
   ]
  },
  {
   "cell_type": "markdown",
   "metadata": {
    "id": "7aM4U0jBkM7K"
   },
   "source": [
    "# Funciones anónimas (lambda)\n",
    "Las funciones lambda son funciones sin nombre definidas en una sola línea con la palabra clave lambda. Están pensadas para realizar operaciones simples sin la necesidad declarar una función completa.\n",
    "\n",
    "Lambda se usa cuando necesitas una función sencilla y puntual y `def` para funciones más complejas y reutilizables."
   ]
  },
  {
   "cell_type": "code",
   "execution_count": 9,
   "metadata": {
    "colab": {
     "base_uri": "https://localhost:8080/"
    },
    "executionInfo": {
     "elapsed": 166,
     "status": "ok",
     "timestamp": 1737137205752,
     "user": {
      "displayName": "Alessandro Batini",
      "userId": "00936546318751086458"
     },
     "user_tz": -60
    },
    "id": "87Yw7Pj5kX70",
    "outputId": "fdf88815-ff13-439e-e748-cb4e439c2e82"
   },
   "outputs": [
    {
     "name": "stdout",
     "output_type": "stream",
     "text": [
      "8\n"
     ]
    }
   ],
   "source": [
    "sumar = lambda a, b: a + b\n",
    "print(sumar(3, 5))  # Imprime 8\n"
   ]
  },
  {
   "cell_type": "code",
   "execution_count": 10,
   "metadata": {
    "colab": {
     "base_uri": "https://localhost:8080/"
    },
    "executionInfo": {
     "elapsed": 171,
     "status": "ok",
     "timestamp": 1737137231955,
     "user": {
      "displayName": "Alessandro Batini",
      "userId": "00936546318751086458"
     },
     "user_tz": -60
    },
    "id": "E7j1jmbDkY6W",
    "outputId": "7dc6b347-b64c-4eb3-97ac-3618e5c386df"
   },
   "outputs": [
    {
     "name": "stdout",
     "output_type": "stream",
     "text": [
      "['Ana', 'Carlos', 'Beto', 'Paula']\n"
     ]
    }
   ],
   "source": [
    "nombres = [\"   ana\", \"  CARLOS \", \" beto   \", \" paula \"]\n",
    "\n",
    "nombres_limpios = list(map(lambda x: x.strip().capitalize(), nombres)) \n",
    "print(nombres_limpios)\n",
    "\n",
    "#x.strip() quita los espacios que sobran.\n",
    "#.capitalize() deja la primera letra  mayúscula y el resto en minscula."
   ]
  },
  {
   "cell_type": "code",
   "execution_count": 11,
   "metadata": {
    "colab": {
     "base_uri": "https://localhost:8080/"
    },
    "executionInfo": {
     "elapsed": 143,
     "status": "ok",
     "timestamp": 1737137240920,
     "user": {
      "displayName": "Alessandro Batini",
      "userId": "00936546318751086458"
     },
     "user_tz": -60
    },
    "id": "iukpRpfAmF3O",
    "outputId": "1db5201e-4234-4ba2-9eef-70bf046c51f1"
   },
   "outputs": [
    {
     "name": "stdout",
     "output_type": "stream",
     "text": [
      "['Ana', 'Carlos', 'Beto', 'Paula']\n"
     ]
    }
   ],
   "source": [
    "def limpiar_y_capitalizar(cadena):\n",
    "    cadena_limpia = cadena.strip().capitalize()\n",
    "    return cadena_limpia\n",
    "\n",
    "nombres = [\"   ana\", \"  CARLOS \", \" beto   \", \" paula \"]\n",
    "nombres_limpios = list(map(limpiar_y_capitalizar, nombres))\n",
    "print(nombres_limpios)\n"
   ]
  },
  {
   "cell_type": "markdown",
   "metadata": {
    "id": "I7NokmdGkofd"
   },
   "source": [
    "# Funciones recursivas\n",
    "Una función recursiva se llama a sí misma hasta cumplir una condición base.\n"
   ]
  },
  {
   "cell_type": "code",
   "execution_count": 12,
   "metadata": {
    "colab": {
     "base_uri": "https://localhost:8080/"
    },
    "executionInfo": {
     "elapsed": 147,
     "status": "ok",
     "timestamp": 1737137799079,
     "user": {
      "displayName": "Alessandro Batini",
      "userId": "00936546318751086458"
     },
     "user_tz": -60
    },
    "id": "cKQzdBPVk7dv",
    "outputId": "8fb508e1-cb8c-41c1-8cdc-a9732d7dcfba"
   },
   "outputs": [
    {
     "name": "stdout",
     "output_type": "stream",
     "text": [
      "El total es: 46.39\n"
     ]
    }
   ],
   "source": [
    "def sumar_precios(lista_precios, indice=0):\n",
    "    if indice == len(lista_precios):\n",
    "        return 0\n",
    "    return lista_precios[indice] + sumar_precios(lista_precios, indice + 1 )\n",
    "\n",
    "mis_compras = [10.50, 5.99, 12.30, 7.80, 5.50, 4.30]\n",
    "total = sumar_precios(mis_compras)\n",
    "print(f\"El total es: {total:.2f}\")\n"
   ]
  }
 ],
 "metadata": {
  "colab": {
   "authorship_tag": "ABX9TyMLNQ2hYjvhH4Hum/FIlSFS",
   "provenance": []
  },
  "kernelspec": {
   "display_name": "Python 3",
   "name": "python3"
  },
  "language_info": {
   "codemirror_mode": {
    "name": "ipython",
    "version": 3
   },
   "file_extension": ".py",
   "mimetype": "text/x-python",
   "name": "python",
   "nbconvert_exporter": "python",
   "pygments_lexer": "ipython3",
   "version": "3.12.1"
  }
 },
 "nbformat": 4,
 "nbformat_minor": 0
}
