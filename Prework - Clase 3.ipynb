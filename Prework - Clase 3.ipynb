{
 "cells": [
  {
   "cell_type": "markdown",
   "metadata": {
    "id": "2drjNSYLhVdC"
   },
   "source": [
    "# **Conceptos basicos de Python - 3**"
   ]
  },
  {
   "cell_type": "markdown",
   "metadata": {
    "id": "8-vBOiJqheSr"
   },
   "source": [
    "# **Funciones**"
   ]
  },
  {
   "cell_type": "markdown",
   "metadata": {
    "id": "sH7MZR3bhhuJ"
   },
   "source": [
    "Una función es un bloque de código reutilizable diseñado para realizar una tarea específica. Las funciones se declaran utilizando la palabra clave def, seguida del nombre de la función y paréntesis."
   ]
  },
  {
   "cell_type": "markdown",
   "metadata": {
    "id": "ClUaCSNjiuHp"
   },
   "source": [
    "Elementos clave de una funcion:\n",
    "El nombre de la función, los paréntesis (que pueden incluir parámetros) y el\n",
    "bloque de código indentado que constituye su cuerpo.\n"
   ]
  },
  {
   "cell_type": "code",
   "execution_count": 1,
   "metadata": {
    "colab": {
     "base_uri": "https://localhost:8080/"
    },
    "executionInfo": {
     "elapsed": 521,
     "status": "ok",
     "timestamp": 1737135633115,
     "user": {
      "displayName": "Alessandro Batini",
      "userId": "00936546318751086458"
     },
     "user_tz": -60
    },
    "id": "sJuY9lsviw4q",
    "outputId": "2ad45265-70ee-4d86-eea9-6f622cf677a7"
   },
   "outputs": [
    {
     "name": "stdout",
     "output_type": "stream",
     "text": [
      "hello world!\n"
     ]
    }
   ],
   "source": [
    "# Declaracion de una función simple\n",
    "def saludo():\n",
    "    print(\"hello world!\") #cuerpo de la funcion\n",
    "# Llamar la función\n",
    "saludo()"
   ]
  },
  {
   "cell_type": "markdown",
   "metadata": {
    "id": "BtAtLqfOFopx"
   },
   "source": [
    "# Alcance de las Variables Y Funciones"
   ]
  },
  {
   "cell_type": "markdown",
   "metadata": {
    "id": "Lwgc-DcEFtS6"
   },
   "source": [
    "El alcance de una variable determina dónde puede ser accedida dentro del programa. Las variables pueden ser:\n",
    "\n",
    "Locales: Declaradas dentro de una función y accesibles solo en su interior.\n",
    "\n",
    "Globales: Declaradas fuera de cualquier función y accesibles en todo el programa.\n",
    "\n",
    "Pasamos las variables a las funciones en distintas formas. Definendolas previamente como variables globales. Estas se podran utilizar fuera de las funciones.\n",
    "\n",
    "Limitar el uso de variables globales reduce la complejidad y posibles errores al mantener las variables aisladas en funciones."
   ]
  },
  {
   "cell_type": "code",
   "execution_count": 2,
   "metadata": {
    "colab": {
     "base_uri": "https://localhost:8080/"
    },
    "executionInfo": {
     "elapsed": 164,
     "status": "ok",
     "timestamp": 1737135976114,
     "user": {
      "displayName": "Alessandro Batini",
      "userId": "00936546318751086458"
     },
     "user_tz": -60
    },
    "id": "TnFxEogLC4Wm",
    "outputId": "6628efbf-cf10-4335-f156-4292b0d6da36"
   },
   "outputs": [
    {
     "name": "stdout",
     "output_type": "stream",
     "text": [
      "50\n",
      "5\n"
     ]
    }
   ],
   "source": [
    "base = 5\n",
    "altura = 10\n",
    "\n",
    "def calcular_area_rectangulo():\n",
    "\n",
    "  area = base*altura\n",
    "  print(area)\n",
    "\n",
    "calcular_area_rectangulo()\n",
    "print(base)"
   ]
  },
  {
   "cell_type": "markdown",
   "metadata": {
    "id": "BxYk6WhDGEt3"
   },
   "source": [
    "Definiendo las variables directamente dentro del cuerpo indentado de la funcion no podremos utilizarlas fuera de ella."
   ]
  },
  {
   "cell_type": "code",
   "execution_count": 3,
   "metadata": {
    "colab": {
     "base_uri": "https://localhost:8080/"
    },
    "executionInfo": {
     "elapsed": 148,
     "status": "ok",
     "timestamp": 1737136309731,
     "user": {
      "displayName": "Alessandro Batini",
      "userId": "00936546318751086458"
     },
     "user_tz": -60
    },
    "id": "haZ9z_R-GiMZ",
    "outputId": "993e5db2-4adc-4cf4-8caf-312509e96cfa"
   },
   "outputs": [
    {
     "name": "stdout",
     "output_type": "stream",
     "text": [
      "40\n"
     ]
    },
    {
     "data": {
      "text/plain": [
       "4"
      ]
     },
     "execution_count": 3,
     "metadata": {},
     "output_type": "execute_result"
    }
   ],
   "source": [
    "def calcular_area_rectangulo():\n",
    "\n",
    "  a = 10\n",
    "  b = 4\n",
    "\n",
    "  area = b*a\n",
    "  print(area)\n",
    "  return b\n",
    "calcular_area_rectangulo()\n",
    "\n",
    "\n"
   ]
  },
  {
   "cell_type": "markdown",
   "metadata": {
    "id": "C0tYHF4YHVKN"
   },
   "source": [
    "Podemos tambien pasar las variables como argumentos de la funcion sin definirlas previamente. Los valores que pasaremos a la funcion al llamarla, se convierten a los argumentos que hemos pasado a la funcion a la hora de definirla."
   ]
  },
  {
   "cell_type": "code",
   "execution_count": 4,
   "metadata": {
    "colab": {
     "base_uri": "https://localhost:8080/"
    },
    "executionInfo": {
     "elapsed": 289,
     "status": "ok",
     "timestamp": 1737136305299,
     "user": {
      "displayName": "Alessandro Batini",
      "userId": "00936546318751086458"
     },
     "user_tz": -60
    },
    "id": "Emsus8AIixbh",
    "outputId": "865d44ad-b4cb-4c72-cfa1-e675b8043ecc"
   },
   "outputs": [
    {
     "name": "stdout",
     "output_type": "stream",
     "text": [
      "El area del rectangulo es: 40\n"
     ]
    }
   ],
   "source": [
    "def calcular_area_rectangulo(base, altura):\n",
    "    area = base * altura\n",
    "    print(f\"El area del rectangulo es: {area}\")\n",
    "\n",
    "calcular_area_rectangulo(4, 10) #5 y 10 se convierten en los argumentos que recibe la función."
   ]
  },
  {
   "cell_type": "markdown",
   "metadata": {
    "id": "WrQWbp6vH3eP"
   },
   "source": [
    "Ventajas: modularidad, mas eficiencia el computar la funcion, facilidad de mantenimiento, claridad."
   ]
  },
  {
   "cell_type": "code",
   "execution_count": 5,
   "metadata": {
    "colab": {
     "base_uri": "https://localhost:8080/"
    },
    "executionInfo": {
     "elapsed": 211,
     "status": "ok",
     "timestamp": 1737136334397,
     "user": {
      "displayName": "Alessandro Batini",
      "userId": "00936546318751086458"
     },
     "user_tz": -60
    },
    "id": "nW3w91usITG1",
    "outputId": "15cb68af-c815-47f1-feed-7745dcbb96bb"
   },
   "outputs": [
    {
     "name": "stdout",
     "output_type": "stream",
     "text": [
      "50\n",
      "5\n"
     ]
    }
   ],
   "source": [
    "base = 5\n",
    "altura = 10\n",
    "\n",
    "def calcular_area_rectangulo1():\n",
    "\n",
    "  area = base*altura\n",
    "  print(area)\n",
    "\n",
    "def calcular_area_rectangulo2():\n",
    "\n",
    "  area = base*altura\n",
    "  print(area)\n",
    "\n",
    "calcular_area_rectangulo1()\n",
    "print(base)\n",
    "#en este ejemplo no podemos calcular el area de dos triangulos a la vez, y menos imprimir una sola variable independientemente."
   ]
  },
  {
   "cell_type": "code",
   "execution_count": 6,
   "metadata": {
    "colab": {
     "base_uri": "https://localhost:8080/"
    },
    "executionInfo": {
     "elapsed": 144,
     "status": "ok",
     "timestamp": 1737136345843,
     "user": {
      "displayName": "Alessandro Batini",
      "userId": "00936546318751086458"
     },
     "user_tz": -60
    },
    "id": "wXLa_nUrI98b",
    "outputId": "a4224bb4-734a-4ef9-e6e2-6422140563f4"
   },
   "outputs": [
    {
     "name": "stdout",
     "output_type": "stream",
     "text": [
      "50\n",
      "5\n",
      "42\n",
      "7\n"
     ]
    }
   ],
   "source": [
    "def calcular_area_rectangulo11():\n",
    "  b = 5\n",
    "  a = 10\n",
    "\n",
    "  area = b*a\n",
    "  print(area)\n",
    "  print(b)\n",
    "calcular_area_rectangulo11()\n",
    "\n",
    "def calcular_area_rectangulo2():\n",
    "  b = 7\n",
    "  a = 6\n",
    "\n",
    "  area = b*a\n",
    "  print(area)\n",
    "  print(b)\n",
    "calcular_area_rectangulo2()\n",
    "#aqui podemos hacer todo lo que nos proponemos, pero de forma ineficiente.\n"
   ]
  },
  {
   "cell_type": "code",
   "execution_count": 7,
   "metadata": {
    "colab": {
     "base_uri": "https://localhost:8080/"
    },
    "executionInfo": {
     "elapsed": 144,
     "status": "ok",
     "timestamp": 1737136397730,
     "user": {
      "displayName": "Alessandro Batini",
      "userId": "00936546318751086458"
     },
     "user_tz": -60
    },
    "id": "duTJIslRJaR9",
    "outputId": "ed63edcf-9d95-41b5-f38a-d336f21e6dff"
   },
   "outputs": [
    {
     "name": "stdout",
     "output_type": "stream",
     "text": [
      "50\n",
      "24\n"
     ]
    }
   ],
   "source": [
    "def calcular_area_rectangulo3(base, altura):\n",
    "    area = base * altura\n",
    "    print(area)\n",
    "\n",
    "calcular_area_rectangulo3(5, 10)\n",
    "\n",
    "def calcular_area_rectangulo4(base, altura):\n",
    "    area = base * altura\n",
    "    print(area)\n",
    "\n",
    "calcular_area_rectangulo4(3, 8)"
   ]
  },
  {
   "cell_type": "markdown",
   "metadata": {
    "id": "H_pIDH3xlmuB"
   },
   "source": [
    "# Llamar funciones"
   ]
  },
  {
   "cell_type": "markdown",
   "metadata": {
    "id": "kjWgoh3ClqhJ"
   },
   "source": [
    "Llamar a una función consiste en ejecutarla indicando su nombre y, si corresponde, pasarle los argumentos necesarios entre paréntesis.\n",
    "Se pueden llamar funciones varias veces con diferentes argumentos para reutilizar la misma lógica.\n",
    "Pasar argumentos permite modularidad; la función no depende de variables globales externas para realizar su tarea.\n",
    "Una buena práctica es evitar el uso de variables globales para reducir errores y efectos secundarios."
   ]
  },
  {
   "cell_type": "code",
   "execution_count": 8,
   "metadata": {
    "colab": {
     "base_uri": "https://localhost:8080/"
    },
    "executionInfo": {
     "elapsed": 144,
     "status": "ok",
     "timestamp": 1737136500999,
     "user": {
      "displayName": "Alessandro Batini",
      "userId": "00936546318751086458"
     },
     "user_tz": -60
    },
    "id": "6-lSt1d3ZaWf",
    "outputId": "c6a1c2c1-6119-4bb1-8a83-dfa38abac6a7"
   },
   "outputs": [
    {
     "name": "stdout",
     "output_type": "stream",
     "text": [
      "10\n"
     ]
    }
   ],
   "source": [
    "def sumar(a, b):\n",
    "    print(a + b)\n",
    "\n",
    "# Llamar la función pasando argumentos 3 y 7\n",
    "sumar(3, 7)"
   ]
  },
  {
   "cell_type": "code",
   "execution_count": 9,
   "metadata": {
    "colab": {
     "base_uri": "https://localhost:8080/"
    },
    "executionInfo": {
     "elapsed": 165,
     "status": "ok",
     "timestamp": 1737136549020,
     "user": {
      "displayName": "Alessandro Batini",
      "userId": "00936546318751086458"
     },
     "user_tz": -60
    },
    "id": "w-6uMvI8Z_9H",
    "outputId": "2dbbd159-7c00-4e09-a08c-d4af97c8f2cf"
   },
   "outputs": [
    {
     "name": "stdout",
     "output_type": "stream",
     "text": [
      "100 EUROS = 110.00 $.\n",
      "75 EUROS = 84.00 $.\n",
      "50 EUROS = 54.50 $.\n"
     ]
    }
   ],
   "source": [
    "def convertir_euros_dolares(euros, tasa_cambio):\n",
    "    dolares = euros * tasa_cambio\n",
    "    print(f\"{euros} EUROS = {dolares:.2f} $.\")\n",
    "\n",
    "convertir_euros_dolares(100, 1.10)\n",
    "convertir_euros_dolares(75, 1.12)\n",
    "convertir_euros_dolares(50, 1.09)"
   ]
  },
  {
   "cell_type": "code",
   "execution_count": null,
   "metadata": {},
   "outputs": [],
   "source": []
  },
  {
   "cell_type": "code",
   "execution_count": null,
   "metadata": {
    "colab": {
     "base_uri": "https://localhost:8080/"
    },
    "executionInfo": {
     "elapsed": 2655,
     "status": "ok",
     "timestamp": 1737070894212,
     "user": {
      "displayName": "Alessandro Batini",
      "userId": "00936546318751086458"
     },
     "user_tz": -60
    },
    "id": "b5P_llk9emhO",
    "outputId": "854c5045-5af1-41ab-fe9b-fe99df6d8a5b"
   },
   "outputs": [],
   "source": [
    "import random\n",
    "\n",
    "def estimar_edad():\n",
    "    nombre = input(\"Como te llamas? \")\n",
    "    # Generamos una edad aleatoria entre 20 y 50\n",
    "    edad_aproximada = random.randint(20, 50)\n",
    "    print(f\"Hola, {nombre}. Diría que tienes {edad_aproximada} años\")\n",
    "\n",
    "# Llamar a la función\n",
    "estimar_edad()\n"
   ]
  },
  {
   "cell_type": "markdown",
   "metadata": {
    "id": "QjhhBPElho4H"
   },
   "source": [
    "# Retorno de valores\n",
    "\n",
    "Algunas funciones devuelven un resultado con la palabra clave return. Este valor puede ser asignado a una variable o usado directamente en operaciones futuras.\n",
    "\n",
    "**return** finaliza la ejecución de la función en la línea donde aparece.\n",
    "Si la función no tiene return, devolverá *None* implícitamente.\n",
    "Usar return permite encadenar funciones y reutilizar datos sin imprimirlos de inmediato."
   ]
  },
  {
   "cell_type": "code",
   "execution_count": null,
   "metadata": {
    "colab": {
     "base_uri": "https://localhost:8080/"
    },
    "executionInfo": {
     "elapsed": 281,
     "status": "ok",
     "timestamp": 1737136763605,
     "user": {
      "displayName": "Alessandro Batini",
      "userId": "00936546318751086458"
     },
     "user_tz": -60
    },
    "id": "toBzbm8uh1XI",
    "outputId": "0e1aa474-6855-4e1f-94f2-16b034941403"
   },
   "outputs": [
    {
     "name": "stdout",
     "output_type": "stream",
     "text": [
      "100 euros equivalen a 110.00 dólares.\n"
     ]
    }
   ],
   "source": [
    "def convertir_euros_dolares(euros, tasa_cambio):\n",
    "    dolares = euros * tasa_cambio\n",
    "    return dolares\n",
    "\n",
    "# Guardamos el valor retornado en una variable para usarlo\n",
    "cantidad_dolares = convertir_euros_dolares(100, 1.10)\n",
    "print(f\"100 euros equivalen a {cantidad_dolares:.2f} dólares.\")\n"
   ]
  },
  {
   "cell_type": "code",
   "execution_count": null,
   "metadata": {
    "colab": {
     "base_uri": "https://localhost:8080/"
    },
    "executionInfo": {
     "elapsed": 92796,
     "status": "ok",
     "timestamp": 1737136856400,
     "user": {
      "displayName": "Alessandro Batini",
      "userId": "00936546318751086458"
     },
     "user_tz": -60
    },
    "id": "RLHdpo4viXoG",
    "outputId": "7f3be89b-3f4e-4838-f0af-f6331f63c10a"
   },
   "outputs": [
    {
     "name": "stdout",
     "output_type": "stream",
     "text": [
      "Hola, cesar. Parece que tienes 38 años.\n"
     ]
    }
   ],
   "source": [
    "import random\n",
    "\n",
    "def obtener_edad_estimada():\n",
    "    return random.randint(20, 50)\n",
    "\n",
    "def mostrar_saludo_con_edad():\n",
    "    nombre = input(\"Dime tu nombre: \")\n",
    "    edad = obtener_edad_estimada()\n",
    "    # Aquí ya disponemos de la edad para imprimir o cualquier otra cosa\n",
    "    print(f\"Hola, {nombre}. Parece que tienes {edad} años.\")\n",
    "\n",
    "mostrar_saludo_con_edad()\n",
    "\n",
    "#La función obtener_edad_estimada() retorna el valor.\n",
    "#Esto da flexibilidad para usar esa edad en distintos contextos sin depender de variables globales\n",
    "#la funcion con return puede ser almacenada en una variable"
   ]
  },
  {
   "cell_type": "markdown",
   "metadata": {
    "id": "uZCbATINjTFG"
   },
   "source": [
    "# Combinar funciones (funciones anidadas)\n",
    "Las funciones anidadas son funciones definidas dentro del cuerpo de otra función. Esta práctica se emplea para organizar mejor el código, especialmente cuando la función interna no tiene sentido fuera de la función principal.\n",
    "Las funciones anidadas pueden acceder a las variables de la función que las contiene (en su alcance).\n",
    "Sirve para “ocultar” la lógica interna, reduciendo el riesgo de que se use donde no corresponde.\n",
    "Mejora la legibilidad en casos en que solo necesitas esa lógica dentro de otra función más grande.\n",
    "\n",
    "En proyectos grandes, ayuda a encapsular la lógica y evitar confusiones con nombres de funciones globales.\n"
   ]
  },
  {
   "cell_type": "code",
   "execution_count": null,
   "metadata": {
    "colab": {
     "base_uri": "https://localhost:8080/"
    },
    "executionInfo": {
     "elapsed": 176,
     "status": "ok",
     "timestamp": 1737136963083,
     "user": {
      "displayName": "Alessandro Batini",
      "userId": "00936546318751086458"
     },
     "user_tz": -60
    },
    "id": "kEgoO9R2luO-",
    "outputId": "15847da2-2f8a-49f3-bbf5-592b521ecd1f"
   },
   "outputs": [
    {
     "name": "stdout",
     "output_type": "stream",
     "text": [
      "El total de la factura es: 121.0\n"
     ]
    }
   ],
   "source": [
    "def agregar_impuesto(precio):\n",
    "    # Agrega un 21% de impuesto\n",
    "    return precio * 1.21\n",
    "\n",
    "def calcular_factura(precio_base):\n",
    "    total = agregar_impuesto(precio_base)\n",
    "    return total\n",
    "\n",
    "print(f\"El total de la factura es: {calcular_factura(100)}\")\n"
   ]
  },
  {
   "cell_type": "code",
   "execution_count": null,
   "metadata": {
    "colab": {
     "base_uri": "https://localhost:8080/"
    },
    "executionInfo": {
     "elapsed": 178,
     "status": "ok",
     "timestamp": 1737137026946,
     "user": {
      "displayName": "Alessandro Batini",
      "userId": "00936546318751086458"
     },
     "user_tz": -60
    },
    "id": "KLvW-E_Fjlvu",
    "outputId": "c6562e23-f826-4aed-c988-d75772e592f6"
   },
   "outputs": [
    {
     "name": "stdout",
     "output_type": "stream",
     "text": [
      "El total de la factura es: 242.0\n"
     ]
    }
   ],
   "source": [
    "def calcular_factura(precio_base):\n",
    "    def agregar_impuesto(precio):\n",
    "\n",
    "        return precio * 1.21 #  21% de impuesto\n",
    "\n",
    "    total = agregar_impuesto(precio_base)\n",
    "    return agregar_impuesto(precio_base)\n",
    "\n",
    "print(f\"El total de la factura es: {calcular_factura(200)}\")\n"
   ]
  },
  {
   "cell_type": "markdown",
   "metadata": {
    "id": "7aM4U0jBkM7K"
   },
   "source": [
    "# Funciones anónimas (lambda)\n",
    "Las funciones lambda son funciones anónimas (sin nombre) definidas en una sola línea con la palabra clave lambda. Están pensadas para realizar operaciones simples sin la necesidad de escribir una función completa con def.\n",
    "Se usan mucho en funciones como map(), filter(), sorted() y en general donde requieras una función muy específica.\n",
    "No soportan múltiples líneas de código; solo permiten una expresión.\n",
    "Al ser anónimas, no se reusan con tanta frecuencia (aunque se puede asignar a una variable).\n",
    "\n",
    "Cuándo conviene usar lambda y cuándo def?\n",
    "Lambda cuando necesitas una función sencilla y puntual. def para funciones más complejas y reutilizables."
   ]
  },
  {
   "cell_type": "code",
   "execution_count": null,
   "metadata": {
    "colab": {
     "base_uri": "https://localhost:8080/"
    },
    "executionInfo": {
     "elapsed": 166,
     "status": "ok",
     "timestamp": 1737137205752,
     "user": {
      "displayName": "Alessandro Batini",
      "userId": "00936546318751086458"
     },
     "user_tz": -60
    },
    "id": "87Yw7Pj5kX70",
    "outputId": "fdf88815-ff13-439e-e748-cb4e439c2e82"
   },
   "outputs": [
    {
     "name": "stdout",
     "output_type": "stream",
     "text": [
      "8\n"
     ]
    }
   ],
   "source": [
    "sumar = lambda a, b: a + b\n",
    "print(sumar(3, 5))  # Imprime 8\n"
   ]
  },
  {
   "cell_type": "code",
   "execution_count": null,
   "metadata": {
    "colab": {
     "base_uri": "https://localhost:8080/"
    },
    "executionInfo": {
     "elapsed": 171,
     "status": "ok",
     "timestamp": 1737137231955,
     "user": {
      "displayName": "Alessandro Batini",
      "userId": "00936546318751086458"
     },
     "user_tz": -60
    },
    "id": "E7j1jmbDkY6W",
    "outputId": "7dc6b347-b64c-4eb3-97ac-3618e5c386df"
   },
   "outputs": [
    {
     "name": "stdout",
     "output_type": "stream",
     "text": [
      "['Ana', 'Carlos', 'Beto', 'Paula']\n"
     ]
    }
   ],
   "source": [
    "nombres = [\"   ana\", \"  CARLOS \", \" beto   \", \" paula \"]\n",
    "\n",
    "nombres_limpios = list(map(lambda x: x.strip().capitalize(), nombres))\n",
    "print(nombres_limpios)\n",
    "\n",
    "#x.strip() quita los espacios que sobran.\n",
    "#.capitalize() deja la primera letra  mayúscula y el resto en minscula."
   ]
  },
  {
   "cell_type": "code",
   "execution_count": null,
   "metadata": {
    "colab": {
     "base_uri": "https://localhost:8080/"
    },
    "executionInfo": {
     "elapsed": 143,
     "status": "ok",
     "timestamp": 1737137240920,
     "user": {
      "displayName": "Alessandro Batini",
      "userId": "00936546318751086458"
     },
     "user_tz": -60
    },
    "id": "iukpRpfAmF3O",
    "outputId": "1db5201e-4234-4ba2-9eef-70bf046c51f1"
   },
   "outputs": [
    {
     "name": "stdout",
     "output_type": "stream",
     "text": [
      "['Ana', 'Carlos', 'Beto', 'Paula']\n"
     ]
    }
   ],
   "source": [
    "def limpiar_y_capitalizar(cadena):\n",
    "    cadena_limpia = cadena.strip().capitalize()\n",
    "    return cadena_limpia\n",
    "\n",
    "nombres = [\"   ana\", \"  CARLOS \", \" beto   \", \" paula \"]\n",
    "nombres_limpios = list(map(limpiar_y_capitalizar, nombres))\n",
    "print(nombres_limpios)\n"
   ]
  },
  {
   "cell_type": "markdown",
   "metadata": {
    "id": "I7NokmdGkofd"
   },
   "source": [
    "# Funciones recursivas\n",
    "Una función recursiva es aquella que se llama a sí misma para resolver un problema que puede descomponerse en subproblemas más pequeños y similares.\n",
    "\n",
    "Para que una función recursiva no entre en un bucle infinito, debe tener una condición base que finalice la recursión.\n",
    "Aunque a veces pueden reemplazarse por bucles, la recursión es útil en algoritmos de divide y vencerás (divide and conquer), como el cálculo factorial, Fibonacci, etc.\n",
    "\n",
    "Se debe tener cuidado con la profundidad de la recursión; Python tiene un límite predeterminado que puede generar errores RecursionError si la recursión es muy profunda."
   ]
  },
  {
   "cell_type": "code",
   "execution_count": null,
   "metadata": {
    "colab": {
     "base_uri": "https://localhost:8080/"
    },
    "executionInfo": {
     "elapsed": 147,
     "status": "ok",
     "timestamp": 1737137799079,
     "user": {
      "displayName": "Alessandro Batini",
      "userId": "00936546318751086458"
     },
     "user_tz": -60
    },
    "id": "cKQzdBPVk7dv",
    "outputId": "8fb508e1-cb8c-41c1-8cdc-a9732d7dcfba"
   },
   "outputs": [
    {
     "name": "stdout",
     "output_type": "stream",
     "text": [
      "El total es: 46.39\n"
     ]
    }
   ],
   "source": [
    "def sumar_precios(lista_precios):\n",
    "    #  Verificamos si la lista está vacía.\n",
    "    if not lista_precios: #\"si no hay elementos en lista_precios\":\n",
    "        #  si la lista no tiene elementos,\n",
    "        return 0  #    devolvemos 0, porque no hay precios que sumar.\n",
    "\n",
    "    # si la lista NO esta vacia, tomamos el primer elemento (lista_precios[0])\n",
    "    return lista_precios[0] + sumar_precios(lista_precios[1:]) # le sumamos de forma recursiva el resultado de volver a llamar a la función con el resto de la lista\n",
    "\n",
    "\n",
    "# Lista de precios de ejemplo.\n",
    "mis_compras = [10.50, 5.99, 12.30, 7.80, 5.50, 4.30]\n",
    "\n",
    "\n",
    "#    El resultado se guarda en la variable 'total'.\n",
    "total = sumar_precios(mis_compras) # llamamos a 'sumar_precios' pasando nuestra lista 'mis_compras y guardamos el resultado en la variable 'total'\n",
    "\n",
    "print(f\"El total es: {total:.2f}\")\n"
   ]
  },
  {
   "cell_type": "code",
   "execution_count": null,
   "metadata": {
    "colab": {
     "base_uri": "https://localhost:8080/"
    },
    "executionInfo": {
     "elapsed": 145,
     "status": "ok",
     "timestamp": 1737137671819,
     "user": {
      "displayName": "Alessandro Batini",
      "userId": "00936546318751086458"
     },
     "user_tz": -60
    },
    "id": "RD44gQ-dmbmY",
    "outputId": "10992727-4984-4d56-ee9e-6602f1a5681e"
   },
   "outputs": [
    {
     "name": "stdout",
     "output_type": "stream",
     "text": [
      "he gastado:45.09\n"
     ]
    }
   ],
   "source": [
    "def sumar_precios_bucle(lista_precios):\n",
    "    suma = 0\n",
    "    for precio in lista_precios:\n",
    "        suma += precio\n",
    "    return suma\n",
    "\n",
    "mis_compras = [10.50, 5.99, 12.30, 7.80, 8.50]\n",
    "total = sumar_precios_bucle(mis_compras)\n",
    "print(f\"he gastado:{total:.2f}\")\n"
   ]
  }
 ],
 "metadata": {
  "colab": {
   "authorship_tag": "ABX9TyMLNQ2hYjvhH4Hum/FIlSFS",
   "provenance": []
  },
  "kernelspec": {
   "display_name": "Python 3",
   "name": "python3"
  },
  "language_info": {
   "codemirror_mode": {
    "name": "ipython",
    "version": 3
   },
   "file_extension": ".py",
   "mimetype": "text/x-python",
   "name": "python",
   "nbconvert_exporter": "python",
   "pygments_lexer": "ipython3",
   "version": "3.12.1"
  }
 },
 "nbformat": 4,
 "nbformat_minor": 0
}
