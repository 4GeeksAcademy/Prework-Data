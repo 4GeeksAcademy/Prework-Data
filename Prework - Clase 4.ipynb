{
 "cells": [
  {
   "cell_type": "markdown",
   "metadata": {},
   "source": [
    "# **Dia 4**"
   ]
  },
  {
   "cell_type": "markdown",
   "metadata": {
    "id": "pYdSyMgxud5W"
   },
   "source": [
    "# **Librerías en Python**\n",
    "\n",
    "En Python, las librerías son colecciones de módulos y paquetes que ofrecen funcionalidades específicas y ya listas para usar. Gracias a ellas, podemos aprovechar código ya creado por otros desarrolladores para agilizar y optimizar nuestro trabajo.\n",
    "\n",
    "Usar librerías nos proporciona herramientas más potentes que las de Python básico, sobre todo para tareas de análisis de datos y ciencia de datos.\n",
    "\n",
    "- **NumPy**: cálculo numérico eficiente.\n",
    "- **Pandas**: análisis y manipulación de datos.\n",
    "- **Matplotlib**: visualización de datos.\n",
    "\n"
   ]
  },
  {
   "cell_type": "markdown",
   "metadata": {},
   "source": [
    "### **Importación de Librerías**"
   ]
  },
  {
   "cell_type": "code",
   "execution_count": 34,
   "metadata": {
    "id": "9HEVWms4u2xB"
   },
   "outputs": [],
   "source": [
    "import numpy  # Importa la librería completa."
   ]
  },
  {
   "cell_type": "code",
   "execution_count": 1,
   "metadata": {
    "id": "DN2hEeflvBhC"
   },
   "outputs": [],
   "source": [
    "import numpy as np  # Crea un alias \"np\"\n",
    "#Ahora, cuando necesitamos usar NumPy, basta escribir np en lugar de numpy, por ejemplo: np.array(...)."
   ]
  },
  {
   "cell_type": "markdown",
   "metadata": {
    "id": "kO-8NXrxvPJu"
   },
   "source": [
    "### **Importancia de la documentacion**\n",
    "\n",
    "La documentación oficial es el mejor lugar para aprender las funcionalidades de cada librería.\n",
    "\n",
    "- [NumPy](https://numpy.org/doc/stable/user/whatisnumpy.html)\n",
    "- [Pandas](https://pandas.pydata.org/docs/index.html)\n",
    "- [Matplotlib](https://matplotlib.org/stable/)"
   ]
  },
  {
   "cell_type": "markdown",
   "metadata": {
    "id": "xBCjCSA9win8"
   },
   "source": [
    "## **NumPy: Procesamiento Numérico**\n",
    "\n",
    "NumPy permite el manejo eficiente de arrays multidimensionales y operaciones matemáticas rápidas."
   ]
  },
  {
   "cell_type": "code",
   "execution_count": 2,
   "metadata": {
    "colab": {
     "base_uri": "https://localhost:8080/"
    },
    "executionInfo": {
     "elapsed": 296,
     "status": "ok",
     "timestamp": 1737394976730,
     "user": {
      "displayName": "Alessandro Batini",
      "userId": "00936546318751086458"
     },
     "user_tz": -60
    },
    "id": "0igK7x0Swq83",
    "outputId": "fe2f3f93-6afc-4b9b-dfbd-486628489418"
   },
   "outputs": [
    {
     "name": "stdout",
     "output_type": "stream",
     "text": [
      "[1 2 3 4]\n"
     ]
    }
   ],
   "source": [
    "#numpy.array() Convierte listas (o listas de listas) de Python en un array (ndarray) de NumPy.\n",
    "import numpy as np\n",
    "\n",
    "# Creamos una lista en Python\n",
    "lista_python = [1, 2, 3, 4]\n",
    "\n",
    "# Convertimos la lista a un array de NumPy\n",
    "array_np = np.array(lista_python)\n",
    "print(array_np)"
   ]
  },
  {
   "cell_type": "code",
   "execution_count": 3,
   "metadata": {
    "colab": {
     "base_uri": "https://localhost:8080/"
    },
    "executionInfo": {
     "elapsed": 4,
     "status": "ok",
     "timestamp": 1737310801463,
     "user": {
      "displayName": "Alessandro Batini",
      "userId": "00936546318751086458"
     },
     "user_tz": -60
    },
    "id": "oMJsJRzbv8io",
    "outputId": "b82b46d4-89ab-40b1-def9-b962674fe929"
   },
   "outputs": [
    {
     "name": "stdout",
     "output_type": "stream",
     "text": [
      "[0. 0. 0. 0. 0.]\n",
      "[[0. 0.]\n",
      " [0. 0.]\n",
      " [0. 0.]]\n"
     ]
    }
   ],
   "source": [
    "# numpy.zeros() Crea un array lleno de ceros del tamaño y forma que especifiquemos.\n",
    "# Array de 1D con 5 ceros\n",
    "array_ceros_1d = np.zeros(5)\n",
    "print(array_ceros_1d)\n",
    "\n",
    "# Array de 2D con 3 filas y 2 columnas\n",
    "array_ceros_2d = np.zeros((3, 2))\n",
    "print(array_ceros_2d)"
   ]
  },
  {
   "cell_type": "code",
   "execution_count": 4,
   "metadata": {
    "colab": {
     "base_uri": "https://localhost:8080/"
    },
    "executionInfo": {
     "elapsed": 598,
     "status": "ok",
     "timestamp": 1737310856010,
     "user": {
      "displayName": "Alessandro Batini",
      "userId": "00936546318751086458"
     },
     "user_tz": -60
    },
    "id": "qpYZmxJ1y3qK",
    "outputId": "a7f6c2d6-6cac-4fba-9ade-d3a70548d2e0"
   },
   "outputs": [
    {
     "name": "stdout",
     "output_type": "stream",
     "text": [
      "[1. 1. 1. 1. 1.]\n",
      "[[1. 1. 1.]\n",
      " [1. 1. 1.]]\n"
     ]
    }
   ],
   "source": [
    "#numpy.ones() Crea un array lleno de unos con la forma especificada.\n",
    "# Array de 1D con 5 unos\n",
    "array_unos_1d = np.ones(5)\n",
    "print(array_unos_1d)\n",
    "\n",
    "# Array de 2D con 2 filas y 3 columnas\n",
    "array_unos_2d = np.ones((2, 3))\n",
    "print(array_unos_2d)"
   ]
  },
  {
   "cell_type": "code",
   "execution_count": 5,
   "metadata": {
    "colab": {
     "base_uri": "https://localhost:8080/"
    },
    "executionInfo": {
     "elapsed": 315,
     "status": "ok",
     "timestamp": 1737310917136,
     "user": {
      "displayName": "Alessandro Batini",
      "userId": "00936546318751086458"
     },
     "user_tz": -60
    },
    "id": "PJ8FX2tgzEYJ",
    "outputId": "095a1af8-9c63-4789-8256-b2410e2d8b6d"
   },
   "outputs": [
    {
     "name": "stdout",
     "output_type": "stream",
     "text": [
      "[0 1 2 3 4 5 6 7 8 9]\n",
      "[2 4 6 8]\n"
     ]
    }
   ],
   "source": [
    "# numpy.arange() Genera un array con valores en un rango determinado (parecido a range() de Python, pero devuelve un ndarray).\n",
    "\n",
    "array_rango = np.arange(10)\n",
    "print(array_rango)\n",
    "\n",
    "# Se pueden especificar inicio, fin y paso\n",
    "array_rango_pasos = np.arange(2, 10, 2)\n",
    "print(array_rango_pasos)"
   ]
  },
  {
   "cell_type": "markdown",
   "metadata": {
    "id": "pO56FmjqzjqY"
   },
   "source": [
    "**Indexación y slicing**\n",
    "\n",
    "Podemos acceder a elementos individuales o subconjuntos de arrays (slicing), igual que con listas en Python, pero sobre arrays de NumPy."
   ]
  },
  {
   "cell_type": "code",
   "execution_count": 6,
   "metadata": {
    "colab": {
     "base_uri": "https://localhost:8080/"
    },
    "executionInfo": {
     "elapsed": 600,
     "status": "ok",
     "timestamp": 1737311075548,
     "user": {
      "displayName": "Alessandro Batini",
      "userId": "00936546318751086458"
     },
     "user_tz": -60
    },
    "id": "964F6MlIzul1",
    "outputId": "41f8d74d-1bff-4eeb-8308-b0c210dee9e4"
   },
   "outputs": [
    {
     "name": "stdout",
     "output_type": "stream",
     "text": [
      "30\n",
      "[20 30 40]\n"
     ]
    }
   ],
   "source": [
    "arr = np.array([10, 20, 30, 40, 50])\n",
    "\n",
    "# Indexación: acceder al elemento en posición 2 (empieza en 0)\n",
    "elem = arr[2]\n",
    "print(elem)\n",
    "\n",
    "# Slicing: elementos desde la posición 1 hasta la 3 (sin incluir la 4)\n",
    "sub_arr = arr[1:4]\n",
    "print(sub_arr)\n"
   ]
  },
  {
   "cell_type": "markdown",
   "metadata": {
    "id": "QJ2mSOAjz4u1"
   },
   "source": [
    "**Broadcasting**\n",
    "\n",
    "NumPy permite operaciones entre un array y un escalar (o entre arrays de distintas dimensiones)"
   ]
  },
  {
   "cell_type": "code",
   "execution_count": 7,
   "metadata": {
    "colab": {
     "base_uri": "https://localhost:8080/"
    },
    "executionInfo": {
     "elapsed": 271,
     "status": "ok",
     "timestamp": 1737311171138,
     "user": {
      "displayName": "Alessandro Batini",
      "userId": "00936546318751086458"
     },
     "user_tz": -60
    },
    "id": "HdoK2v1R0BAW",
    "outputId": "653ba2d2-6910-424a-99b6-5fa73db961f6"
   },
   "outputs": [
    {
     "name": "stdout",
     "output_type": "stream",
     "text": [
      "[11 12 13 14]\n"
     ]
    }
   ],
   "source": [
    "# Broadcasting: se suma 10 a cada elemento del array.\n",
    "arr = np.array([1, 2, 3, 4])\n",
    "arr_sumado = arr + 10\n",
    "print(arr_sumado)"
   ]
  },
  {
   "cell_type": "markdown",
   "metadata": {
    "id": "q6lrR5Iv0Tfc"
   },
   "source": [
    "### **Operaciones Matemáticas y Estadísticas**"
   ]
  },
  {
   "cell_type": "code",
   "execution_count": 8,
   "metadata": {
    "colab": {
     "base_uri": "https://localhost:8080/"
    },
    "executionInfo": {
     "elapsed": 575,
     "status": "ok",
     "timestamp": 1737311241302,
     "user": {
      "displayName": "Alessandro Batini",
      "userId": "00936546318751086458"
     },
     "user_tz": -60
    },
    "id": "Tfp2X0WG0Wsi",
    "outputId": "4e745bcf-22b9-4d71-871d-a27689f1f064"
   },
   "outputs": [
    {
     "name": "stdout",
     "output_type": "stream",
     "text": [
      "3.0\n"
     ]
    }
   ],
   "source": [
    "#numpy.mean() Calcula el promedio (media) de los elementos en un array.\n",
    "valores = np.array([1, 2, 3, 4, 5])\n",
    "promedio = np.mean(valores)\n",
    "print(promedio)"
   ]
  },
  {
   "cell_type": "code",
   "execution_count": 9,
   "metadata": {
    "colab": {
     "base_uri": "https://localhost:8080/"
    },
    "executionInfo": {
     "elapsed": 555,
     "status": "ok",
     "timestamp": 1737311266533,
     "user": {
      "displayName": "Alessandro Batini",
      "userId": "00936546318751086458"
     },
     "user_tz": -60
    },
    "id": "LxBT8fQA0ejt",
    "outputId": "a2aaee76-2fd8-42eb-ab64-066271ff1ff7"
   },
   "outputs": [
    {
     "name": "stdout",
     "output_type": "stream",
     "text": [
      "15\n"
     ]
    }
   ],
   "source": [
    "#numpy.sum() Calcula la suma de todos los elementos de un array.\n",
    "valores = np.array([1, 2, 3, 4, 5])\n",
    "suma = np.sum(valores)\n",
    "print(suma)\n"
   ]
  },
  {
   "cell_type": "code",
   "execution_count": 10,
   "metadata": {
    "colab": {
     "base_uri": "https://localhost:8080/"
    },
    "executionInfo": {
     "elapsed": 281,
     "status": "ok",
     "timestamp": 1737311294005,
     "user": {
      "displayName": "Alessandro Batini",
      "userId": "00936546318751086458"
     },
     "user_tz": -60
    },
    "id": "2Xq8WUmW0le_",
    "outputId": "ed9a816f-6cda-4cec-f370-42c7f02e87ce"
   },
   "outputs": [
    {
     "name": "stdout",
     "output_type": "stream",
     "text": [
      "1.4142135623730951\n"
     ]
    }
   ],
   "source": [
    "#numpy.std() Retorna la desviación estándar de los elementos de un array.\n",
    "valores = np.array([1, 2, 3, 4, 5])\n",
    "desviacion = np.std(valores)\n",
    "print(desviacion)\n"
   ]
  },
  {
   "cell_type": "markdown",
   "metadata": {
    "id": "3wFXOWoL0yqv"
   },
   "source": [
    "**Arrays multidimensionales**"
   ]
  },
  {
   "cell_type": "code",
   "execution_count": 36,
   "metadata": {
    "colab": {
     "base_uri": "https://localhost:8080/"
    },
    "executionInfo": {
     "elapsed": 325,
     "status": "ok",
     "timestamp": 1737311367706,
     "user": {
      "displayName": "Alessandro Batini",
      "userId": "00936546318751086458"
     },
     "user_tz": -60
    },
    "id": "wV4POEHQ00e_",
    "outputId": "22ae48ce-f830-4ed0-978b-65fe42db4903"
   },
   "outputs": [
    {
     "name": "stdout",
     "output_type": "stream",
     "text": [
      "[1 2 3 4 5 6]\n",
      "[[1 2 3]\n",
      " [4 5 6]]\n"
     ]
    }
   ],
   "source": [
    "#reshape() Cambia la forma (dimensiones) de un array sin alterar sus datos.\n",
    "matriz = np.arange(1, 7)\n",
    "print(matriz)\n",
    "\n",
    "matriz_2d = matriz.reshape((2, 3))\n",
    "print(matriz_2d)\n"
   ]
  },
  {
   "cell_type": "code",
   "execution_count": 12,
   "metadata": {
    "colab": {
     "base_uri": "https://localhost:8080/"
    },
    "executionInfo": {
     "elapsed": 693,
     "status": "ok",
     "timestamp": 1737311411159,
     "user": {
      "displayName": "Alessandro Batini",
      "userId": "00936546318751086458"
     },
     "user_tz": -60
    },
    "id": "eiQ3F2ln1BlT",
    "outputId": "d2047b01-0cf0-47f5-dc33-31db733618e4"
   },
   "outputs": [
    {
     "name": "stdout",
     "output_type": "stream",
     "text": [
      "[[1 4]\n",
      " [2 5]\n",
      " [3 6]]\n"
     ]
    }
   ],
   "source": [
    "#transpose() Transpone un array (intercambia filas por columnas).\n",
    "matriz_2d = np.array([[1, 2, 3], [4, 5, 6]])\n",
    "matriz_transpuesta = matriz_2d.transpose()\n",
    "print(matriz_transpuesta)"
   ]
  },
  {
   "cell_type": "markdown",
   "metadata": {
    "id": "lGpbil8h1ZLc"
   },
   "source": [
    "### **Álgebra Lineal**"
   ]
  },
  {
   "cell_type": "code",
   "execution_count": 37,
   "metadata": {
    "colab": {
     "base_uri": "https://localhost:8080/"
    },
    "executionInfo": {
     "elapsed": 201,
     "status": "ok",
     "timestamp": 1737395558539,
     "user": {
      "displayName": "Alessandro Batini",
      "userId": "00936546318751086458"
     },
     "user_tz": -60
    },
    "id": "o7fRHZda1bxe",
    "outputId": "b147fcda-a176-4633-ac66-3ab04a6cd17e"
   },
   "outputs": [
    {
     "name": "stdout",
     "output_type": "stream",
     "text": [
      "[[19 22]\n",
      " [43 50]]\n",
      "[[19 22]\n",
      " [43 50]]\n"
     ]
    }
   ],
   "source": [
    "#numpy.dot() / @ Realiza la multiplicación de matrices.\n",
    "\n",
    "A = np.array([[1, 2], [3, 4]])\n",
    "B = np.array([[5, 6], [7, 8]])\n",
    "\n",
    "# Opción 1: usando dot()\n",
    "C1 = np.dot(A, B)\n",
    "\n",
    "# Opción 2: usando el operador @\n",
    "C2 = A @ B\n",
    "\n",
    "print(C1)\n",
    "print(C2)\n"
   ]
  },
  {
   "attachments": {
    "image.png": {
     "image/png": "[encoded data removed]"
    }
   },
   "cell_type": "markdown",
   "metadata": {},
   "source": [
    "![image.png](attachment:image.png)"
   ]
  },
  {
   "cell_type": "code",
   "execution_count": 14,
   "metadata": {
    "colab": {
     "base_uri": "https://localhost:8080/"
    },
    "executionInfo": {
     "elapsed": 592,
     "status": "ok",
     "timestamp": 1737311599656,
     "user": {
      "displayName": "Alessandro Batini",
      "userId": "00936546318751086458"
     },
     "user_tz": -60
    },
    "id": "a0gYRyAq1wLy",
    "outputId": "9cb58ed8-e98f-4478-df86-5e8d57187dce"
   },
   "outputs": [
    {
     "name": "stdout",
     "output_type": "stream",
     "text": [
      "[[-2.   1. ]\n",
      " [ 1.5 -0.5]]\n"
     ]
    }
   ],
   "source": [
    "#numpy.linalg.inv() Calcula la inversa de una matriz .\n",
    "matriz = np.array([[1, 2], [3, 4]])\n",
    "inversa = np.linalg.inv(matriz)\n",
    "print(inversa)"
   ]
  },
  {
   "cell_type": "markdown",
   "metadata": {
    "id": "6q5X04Wx16rh"
   },
   "source": [
    "# **Pandas**\n",
    "\n",
    "Pandas es una librería especializada en la manipulación y análisis de datos. Sus dos estructuras principales son:\n",
    "\n",
    "Series (1D) Es un array unidimensional con etiquetas (índices).\n",
    "DataFrame (2D) Estructura tabular con filas y columnas, como una hoja de cálculo."
   ]
  },
  {
   "cell_type": "code",
   "execution_count": 38,
   "metadata": {
    "colab": {
     "base_uri": "https://localhost:8080/"
    },
    "executionInfo": {
     "elapsed": 776,
     "status": "ok",
     "timestamp": 1737395771709,
     "user": {
      "displayName": "Alessandro Batini",
      "userId": "00936546318751086458"
     },
     "user_tz": -60
    },
    "id": "oJSSjN703L9S",
    "outputId": "9e610d34-5948-4020-b865-63b2460cd056"
   },
   "outputs": [
    {
     "name": "stdout",
     "output_type": "stream",
     "text": [
      "0    10\n",
      "1    20\n",
      "2    30\n",
      "3    40\n",
      "dtype: int64\n",
      "   Nombre  Edad\n",
      "0     Ana    23\n",
      "1    Luis    30\n",
      "2  Carlos    40\n"
     ]
    }
   ],
   "source": [
    "import pandas as pd\n",
    "\n",
    "# Crear una Serie\n",
    "serie = pd.Series([10, 20, 30, 40])\n",
    "print(serie)\n",
    "\n",
    "# Crear un DataFrame desde un diccionario\n",
    "data = {\"Nombre\": [\"Ana\", \"Luis\", \"Carlos\"], \"Edad\": [23, 30, 40]}\n",
    "df = pd.DataFrame(data)\n",
    "print(df)"
   ]
  },
  {
   "cell_type": "code",
   "execution_count": null,
   "metadata": {
    "colab": {
     "base_uri": "https://localhost:8080/",
     "height": 215
    },
    "executionInfo": {
     "elapsed": 207,
     "status": "ok",
     "timestamp": 1737395921887,
     "user": {
      "displayName": "Alessandro Batini",
      "userId": "00936546318751086458"
     },
     "user_tz": -60
    },
    "id": "f1oP4l664Chh",
    "outputId": "8b2048b7-014a-4f3e-a90f-211582c17a09"
   },
   "outputs": [
    {
     "data": {
      "text/html": [
       "<div>\n",
       "<style scoped>\n",
       "    .dataframe tbody tr th:only-of-type {\n",
       "        vertical-align: middle;\n",
       "    }\n",
       "\n",
       "    .dataframe tbody tr th {\n",
       "        vertical-align: top;\n",
       "    }\n",
       "\n",
       "    .dataframe thead th {\n",
       "        text-align: right;\n",
       "    }\n",
       "</style>\n",
       "<table border=\"1\" class=\"dataframe\">\n",
       "  <thead>\n",
       "    <tr style=\"text-align: right;\">\n",
       "      <th></th>\n",
       "      <th>A</th>\n",
       "      <th>B</th>\n",
       "      <th>C</th>\n",
       "    </tr>\n",
       "  </thead>\n",
       "  <tbody>\n",
       "    <tr>\n",
       "      <th>0</th>\n",
       "      <td>1</td>\n",
       "      <td>4</td>\n",
       "      <td>7</td>\n",
       "    </tr>\n",
       "    <tr>\n",
       "      <th>1</th>\n",
       "      <td>2</td>\n",
       "      <td>5</td>\n",
       "      <td>8</td>\n",
       "    </tr>\n",
       "    <tr>\n",
       "      <th>2</th>\n",
       "      <td>3</td>\n",
       "      <td>6</td>\n",
       "      <td>9</td>\n",
       "    </tr>\n",
       "  </tbody>\n",
       "</table>\n",
       "</div>"
      ],
      "text/plain": [
       "   A  B  C\n",
       "0  1  4  7\n",
       "1  2  5  8\n",
       "2  3  6  9"
      ]
     },
     "execution_count": 39,
     "metadata": {},
     "output_type": "execute_result"
    }
   ],
   "source": [
    "#Crear Dataframe\n",
    "df_n = pd.DataFrame({\n",
    "    \"A\": [1, 2, 3],\n",
    "    \"B\": [4, 5, 6],\n",
    "    \"C\": [7, 8, 9]\n",
    "})\n",
    "\n",
    "print(df_n)\n",
    "display(df_n)"
   ]
  },
  {
   "cell_type": "markdown",
   "metadata": {},
   "source": [
    "### **Importación de Datos**"
   ]
  },
  {
   "cell_type": "code",
   "execution_count": 17,
   "metadata": {
    "id": "fPhXTMY_3vml"
   },
   "outputs": [
    {
     "data": {
      "text/plain": [
       "'df = pd.read_csv(\"archivo.csv\")  # Importar desde CSV\\ndf_excel = pd.read_excel(\"archivo.xlsx\")  # Importar desde Excel'"
      ]
     },
     "execution_count": 17,
     "metadata": {},
     "output_type": "execute_result"
    }
   ],
   "source": [
    "#pd.read_csv() y pd.read_excel()  Para importar datos desde archivos CSV o Excel.\n",
    "'''df = pd.read_csv(\"archivo.csv\")  # Importar desde CSV\n",
    "df_excel = pd.read_excel(\"archivo.xlsx\")  # Importar desde Excel'''"
   ]
  },
  {
   "cell_type": "markdown",
   "metadata": {},
   "source": [
    "### **Manipulación de Datos**"
   ]
  },
  {
   "cell_type": "code",
   "execution_count": 18,
   "metadata": {
    "colab": {
     "base_uri": "https://localhost:8080/"
    },
    "executionInfo": {
     "elapsed": 189,
     "status": "ok",
     "timestamp": 1737395924533,
     "user": {
      "displayName": "Alessandro Batini",
      "userId": "00936546318751086458"
     },
     "user_tz": -60
    },
    "id": "n1de6yYB4h5U",
    "outputId": "2173568b-fb53-4dfa-ac88-4708e95c99a9"
   },
   "outputs": [
    {
     "name": "stdout",
     "output_type": "stream",
     "text": [
      "0       Ana\n",
      "1      Luis\n",
      "2    Carlos\n",
      "Name: Nombre, dtype: object\n"
     ]
    }
   ],
   "source": [
    "# Seleccionar una columna\n",
    "columna_A = df[\"Nombre\"]\n",
    "print(columna_A)"
   ]
  },
  {
   "cell_type": "code",
   "execution_count": 19,
   "metadata": {
    "colab": {
     "base_uri": "https://localhost:8080/"
    },
    "executionInfo": {
     "elapsed": 159,
     "status": "ok",
     "timestamp": 1737395933757,
     "user": {
      "displayName": "Alessandro Batini",
      "userId": "00936546318751086458"
     },
     "user_tz": -60
    },
    "id": "PvNlZp-f4kbU",
    "outputId": "d4b651e2-3171-481c-ad57-065b353eb35c"
   },
   "outputs": [
    {
     "name": "stdout",
     "output_type": "stream",
     "text": [
      "   Nombre  Edad\n",
      "0     Ana    23\n",
      "1    Luis    30\n",
      "2  Carlos    40\n"
     ]
    }
   ],
   "source": [
    "# Seleccionar múltiples columnas\n",
    "ab = df[[\"Nombre\", \"Edad\"]]\n",
    "print(ab)"
   ]
  },
  {
   "cell_type": "code",
   "execution_count": 20,
   "metadata": {
    "colab": {
     "base_uri": "https://localhost:8080/"
    },
    "executionInfo": {
     "elapsed": 178,
     "status": "ok",
     "timestamp": 1737395963914,
     "user": {
      "displayName": "Alessandro Batini",
      "userId": "00936546318751086458"
     },
     "user_tz": -60
    },
    "id": "c4M_r0sF4mJE",
    "outputId": "bb934185-ecdf-43fb-d51a-25ca41984418"
   },
   "outputs": [
    {
     "name": "stdout",
     "output_type": "stream",
     "text": [
      "Nombre    Ana\n",
      "Edad       23\n",
      "Name: 0, dtype: object\n"
     ]
    }
   ],
   "source": [
    "# Seleccionar por etiqueta de fila (loc)\n",
    "fila_0 = df.loc[0]\n",
    "print(fila_0)"
   ]
  },
  {
   "cell_type": "code",
   "execution_count": 21,
   "metadata": {
    "colab": {
     "base_uri": "https://localhost:8080/"
    },
    "executionInfo": {
     "elapsed": 302,
     "status": "ok",
     "timestamp": 1737312432018,
     "user": {
      "displayName": "Alessandro Batini",
      "userId": "00936546318751086458"
     },
     "user_tz": -60
    },
    "id": "CSWrEJxC4o4r",
    "outputId": "ef50ef7a-2e5e-49b7-dab6-98f73f9bed3b"
   },
   "outputs": [
    {
     "name": "stdout",
     "output_type": "stream",
     "text": [
      "Nombre    Luis\n",
      "Edad        30\n",
      "Name: 1, dtype: object\n"
     ]
    }
   ],
   "source": [
    "# Seleccionar por índice de fila (iloc)\n",
    "fila_1 = df.iloc[1]\n",
    "print(fila_1)"
   ]
  },
  {
   "cell_type": "code",
   "execution_count": 22,
   "metadata": {
    "colab": {
     "base_uri": "https://localhost:8080/"
    },
    "executionInfo": {
     "elapsed": 161,
     "status": "ok",
     "timestamp": 1737396017177,
     "user": {
      "displayName": "Alessandro Batini",
      "userId": "00936546318751086458"
     },
     "user_tz": -60
    },
    "id": "ofKGMkMz5FSW",
    "outputId": "7c643a68-9e49-478a-a4e5-83f60ab66ba4"
   },
   "outputs": [
    {
     "name": "stdout",
     "output_type": "stream",
     "text": [
      "   Nombre  Edad\n",
      "1    Luis    30\n",
      "2  Carlos    40\n"
     ]
    }
   ],
   "source": [
    "# Filtrar filas\n",
    "filtro = df[df[\"Edad\"] > 23]\n",
    "print(filtro)"
   ]
  },
  {
   "cell_type": "code",
   "execution_count": 23,
   "metadata": {
    "colab": {
     "base_uri": "https://localhost:8080/"
    },
    "executionInfo": {
     "elapsed": 163,
     "status": "ok",
     "timestamp": 1737396034649,
     "user": {
      "displayName": "Alessandro Batini",
      "userId": "00936546318751086458"
     },
     "user_tz": -60
    },
    "id": "mve6gvtk5McQ",
    "outputId": "faff5ec6-4a06-4062-d1d9-f0292cc2ec4e"
   },
   "outputs": [
    {
     "name": "stdout",
     "output_type": "stream",
     "text": [
      "   Nombre  Edad\n",
      "2  Carlos    40\n",
      "1    Luis    30\n",
      "0     Ana    23\n"
     ]
    }
   ],
   "source": [
    "# Ordenar por la columna B en forma descendente  # sort_values() ordena el DataFrame por la columna especificada.\n",
    "df_ordenado = df.sort_values(\"Edad\", ascending=False)\n",
    "print(df_ordenado)"
   ]
  },
  {
   "cell_type": "markdown",
   "metadata": {
    "id": "-ZNIVzyg6W_d"
   },
   "source": [
    "### **Limpieza de Datos**"
   ]
  },
  {
   "cell_type": "code",
   "execution_count": 24,
   "metadata": {
    "colab": {
     "base_uri": "https://localhost:8080/"
    },
    "executionInfo": {
     "elapsed": 281,
     "status": "ok",
     "timestamp": 1737312871726,
     "user": {
      "displayName": "Alessandro Batini",
      "userId": "00936546318751086458"
     },
     "user_tz": -60
    },
    "id": "INqI_NQS6Y31",
    "outputId": "913e2c8b-d1ae-499c-be84-618d6249ce6c"
   },
   "outputs": [
    {
     "name": "stdout",
     "output_type": "stream",
     "text": [
      "     A    B\n",
      "0  1.0  4.0\n",
      "1  NaN  5.0\n",
      "2  3.0  NaN\n"
     ]
    }
   ],
   "source": [
    "#dropna() Elimina filas (o columnas) que contengan valores nulos (NaN).\n",
    "\n",
    "df = pd.DataFrame({\n",
    "    \"A\": [1, None, 3],\n",
    "    \"B\": [4, 5, None]\n",
    "})\n",
    "\n",
    "print(df)\n"
   ]
  },
  {
   "cell_type": "code",
   "execution_count": 25,
   "metadata": {
    "colab": {
     "base_uri": "https://localhost:8080/"
    },
    "executionInfo": {
     "elapsed": 283,
     "status": "ok",
     "timestamp": 1737312875498,
     "user": {
      "displayName": "Alessandro Batini",
      "userId": "00936546318751086458"
     },
     "user_tz": -60
    },
    "id": "T5Ez6-d-6qsy",
    "outputId": "0f4ba0e0-e4cc-43df-8044-e1f5ba41e177"
   },
   "outputs": [
    {
     "name": "stdout",
     "output_type": "stream",
     "text": [
      "     A    B\n",
      "0  1.0  4.0\n"
     ]
    }
   ],
   "source": [
    "df_noNan = df.dropna()\n",
    "print(df_noNan)"
   ]
  },
  {
   "cell_type": "code",
   "execution_count": 26,
   "metadata": {
    "colab": {
     "base_uri": "https://localhost:8080/"
    },
    "executionInfo": {
     "elapsed": 572,
     "status": "ok",
     "timestamp": 1737312916455,
     "user": {
      "displayName": "Alessandro Batini",
      "userId": "00936546318751086458"
     },
     "user_tz": -60
    },
    "id": "AVUGtXa-6tj3",
    "outputId": "4ea97ea1-6b42-4b5d-cf70-940895062ae1"
   },
   "outputs": [
    {
     "name": "stdout",
     "output_type": "stream",
     "text": [
      "     A    B\n",
      "0  1.0  4.0\n",
      "1  0.0  5.0\n",
      "2  3.0  0.0\n"
     ]
    }
   ],
   "source": [
    "#fillna() Reemplaza los valores nulos con un valor específico.\n",
    "df_rellenado = df.fillna(0)  #  reemplaza todos los NaN con 0.\n",
    "\n",
    "print(df_rellenado)\n"
   ]
  },
  {
   "cell_type": "code",
   "execution_count": 27,
   "metadata": {
    "colab": {
     "base_uri": "https://localhost:8080/"
    },
    "executionInfo": {
     "elapsed": 2,
     "status": "ok",
     "timestamp": 1737312977206,
     "user": {
      "displayName": "Alessandro Batini",
      "userId": "00936546318751086458"
     },
     "user_tz": -60
    },
    "id": "HnlxAeMS65R1",
    "outputId": "d7722190-199e-4f2d-b93a-5e4b907d3ca7"
   },
   "outputs": [
    {
     "name": "stdout",
     "output_type": "stream",
     "text": [
      "   A  B\n",
      "0  1  4\n",
      "1  2  5\n",
      "2  2  5\n",
      "3  3  6\n"
     ]
    }
   ],
   "source": [
    "# drop_duplicates() Elimina filas duplicadas.\n",
    "df_dup = pd.DataFrame({\n",
    "    \"A\": [1, 2, 2, 3],\n",
    "    \"B\": [4, 5, 5, 6]\n",
    "})\n",
    "\n",
    "print(df_dup)"
   ]
  },
  {
   "cell_type": "code",
   "execution_count": 28,
   "metadata": {
    "colab": {
     "base_uri": "https://localhost:8080/"
    },
    "executionInfo": {
     "elapsed": 264,
     "status": "ok",
     "timestamp": 1737312987163,
     "user": {
      "displayName": "Alessandro Batini",
      "userId": "00936546318751086458"
     },
     "user_tz": -60
    },
    "id": "oZWn0zDj7Fvx",
    "outputId": "a99cb48f-c0f5-4f09-b4d9-86edfe65df2d"
   },
   "outputs": [
    {
     "name": "stdout",
     "output_type": "stream",
     "text": [
      "   A  B\n",
      "0  1  4\n",
      "1  2  5\n",
      "3  3  6\n"
     ]
    }
   ],
   "source": [
    "df_sin_dup = df_dup.drop_duplicates()\n",
    "print(df_sin_dup)"
   ]
  },
  {
   "cell_type": "code",
   "execution_count": 29,
   "metadata": {
    "colab": {
     "base_uri": "https://localhost:8080/",
     "height": 300
    },
    "executionInfo": {
     "elapsed": 596,
     "status": "ok",
     "timestamp": 1737313123186,
     "user": {
      "displayName": "Alessandro Batini",
      "userId": "00936546318751086458"
     },
     "user_tz": -60
    },
    "id": "bqDrEXTw7gEI",
    "outputId": "6347e95f-61a4-48d1-d3cc-c9f6108c87b4"
   },
   "outputs": [
    {
     "data": {
      "text/html": [
       "<div>\n",
       "<style scoped>\n",
       "    .dataframe tbody tr th:only-of-type {\n",
       "        vertical-align: middle;\n",
       "    }\n",
       "\n",
       "    .dataframe tbody tr th {\n",
       "        vertical-align: top;\n",
       "    }\n",
       "\n",
       "    .dataframe thead th {\n",
       "        text-align: right;\n",
       "    }\n",
       "</style>\n",
       "<table border=\"1\" class=\"dataframe\">\n",
       "  <thead>\n",
       "    <tr style=\"text-align: right;\">\n",
       "      <th></th>\n",
       "      <th>A</th>\n",
       "      <th>B</th>\n",
       "    </tr>\n",
       "  </thead>\n",
       "  <tbody>\n",
       "    <tr>\n",
       "      <th>count</th>\n",
       "      <td>4.000000</td>\n",
       "      <td>4.000000</td>\n",
       "    </tr>\n",
       "    <tr>\n",
       "      <th>mean</th>\n",
       "      <td>2.000000</td>\n",
       "      <td>5.000000</td>\n",
       "    </tr>\n",
       "    <tr>\n",
       "      <th>std</th>\n",
       "      <td>0.816497</td>\n",
       "      <td>0.816497</td>\n",
       "    </tr>\n",
       "    <tr>\n",
       "      <th>min</th>\n",
       "      <td>1.000000</td>\n",
       "      <td>4.000000</td>\n",
       "    </tr>\n",
       "    <tr>\n",
       "      <th>25%</th>\n",
       "      <td>1.750000</td>\n",
       "      <td>4.750000</td>\n",
       "    </tr>\n",
       "    <tr>\n",
       "      <th>50%</th>\n",
       "      <td>2.000000</td>\n",
       "      <td>5.000000</td>\n",
       "    </tr>\n",
       "    <tr>\n",
       "      <th>75%</th>\n",
       "      <td>2.250000</td>\n",
       "      <td>5.250000</td>\n",
       "    </tr>\n",
       "    <tr>\n",
       "      <th>max</th>\n",
       "      <td>3.000000</td>\n",
       "      <td>6.000000</td>\n",
       "    </tr>\n",
       "  </tbody>\n",
       "</table>\n",
       "</div>"
      ],
      "text/plain": [
       "              A         B\n",
       "count  4.000000  4.000000\n",
       "mean   2.000000  5.000000\n",
       "std    0.816497  0.816497\n",
       "min    1.000000  4.000000\n",
       "25%    1.750000  4.750000\n",
       "50%    2.000000  5.000000\n",
       "75%    2.250000  5.250000\n",
       "max    3.000000  6.000000"
      ]
     },
     "execution_count": 29,
     "metadata": {},
     "output_type": "execute_result"
    }
   ],
   "source": [
    "#describe() Proporciona estadísticas descriptivas para cada columna numérica.\n",
    "df_dup.describe()"
   ]
  },
  {
   "cell_type": "markdown",
   "metadata": {
    "id": "yrKVVeyv8HXv"
   },
   "source": [
    "# **Matplotlib**\n",
    "Matplotlib es la librería principal para la visualización de datos en Python."
   ]
  },
  {
   "cell_type": "code",
   "execution_count": 30,
   "metadata": {
    "colab": {
     "base_uri": "https://localhost:8080/",
     "height": 472
    },
    "executionInfo": {
     "elapsed": 416,
     "status": "ok",
     "timestamp": 1737397329864,
     "user": {
      "displayName": "Alessandro Batini",
      "userId": "00936546318751086458"
     },
     "user_tz": -60
    },
    "id": "PO3EVAxc8Pk5",
    "outputId": "41fe5fa0-6e03-4e0f-e71d-461a3ff406d9"
   },
   "outputs": [
    {
     "data": {
      "image/png": "[encoded data removed]",
      "text/plain": [
       "<Figure size 640x480 with 1 Axes>"
      ]
     },
     "metadata": {},
     "output_type": "display_data"
    }
   ],
   "source": [
    "import matplotlib.pyplot as plt\n",
    "\n",
    "#plot() Crea gráficos de líneas.\n",
    "\n",
    "años = [2018, 2019, 2020, 2021, 2022]\n",
    "ventas = [50000, 55000, 48000, 62000, 70000]\n",
    "\n",
    "plt.plot(años, ventas, marker='o', linestyle='-', color='b') # plot() dibuja una línea usando los valores de años en eje x y ventas en eje y\n",
    "plt.title(\"Ventas Anuales\") # título\n",
    "plt.xlabel(\"Año\") # etiqueta del eje X\n",
    "plt.ylabel(\"Ventas (en USD)\") # etiqueta del eje Y\n",
    "plt.grid() #añade lineas de guias en cada marca de ambos ejes\n",
    "plt.show() # muestra el gráfico en pantalla\n"
   ]
  },
  {
   "cell_type": "code",
   "execution_count": 31,
   "metadata": {
    "colab": {
     "base_uri": "https://localhost:8080/",
     "height": 472
    },
    "executionInfo": {
     "elapsed": 357,
     "status": "ok",
     "timestamp": 1737313376221,
     "user": {
      "displayName": "Alessandro Batini",
      "userId": "00936546318751086458"
     },
     "user_tz": -60
    },
    "id": "7CtPeUIq8eWJ",
    "outputId": "522ec294-ac41-44bc-a925-bfddd1c226d8"
   },
   "outputs": [
    {
     "data": {
      "image/png": "[encoded data removed]",
      "text/plain": [
       "<Figure size 640x480 with 1 Axes>"
      ]
     },
     "metadata": {},
     "output_type": "display_data"
    }
   ],
   "source": [
    "#hist() Genera histogramas, que sirven para mostrar la distribución de un conjunto de datos.\n",
    "Edad = [20, 22, 24, 26, 34, 39, 45, 29, 38, 58, 37, 42, 89, 72, 45, 65, 12]\n",
    "plt.hist(Edad, bins = 8, color='g', edgecolor='black')\n",
    "plt.title(\"Histograma de Ventas Anuales\")\n",
    "plt.xlabel(\"Ventas (en USD)\")\n",
    "plt.ylabel(\"Frecuencia\")\n",
    "plt.show()"
   ]
  },
  {
   "cell_type": "code",
   "execution_count": 32,
   "metadata": {
    "colab": {
     "base_uri": "https://localhost:8080/",
     "height": 472
    },
    "executionInfo": {
     "elapsed": 562,
     "status": "ok",
     "timestamp": 1737313439583,
     "user": {
      "displayName": "Alessandro Batini",
      "userId": "00936546318751086458"
     },
     "user_tz": -60
    },
    "id": "UJDFOGw98w1l",
    "outputId": "285a6094-96f5-42e7-92a4-bcd04ce2b2dd"
   },
   "outputs": [
    {
     "data": {
      "image/png": "[encoded data removed]",
      "text/plain": [
       "<Figure size 640x480 with 1 Axes>"
      ]
     },
     "metadata": {},
     "output_type": "display_data"
    }
   ],
   "source": [
    "#scatter() Crea diagramas de dispersión, útiles para ver la relación entre dos variables.\n",
    "\n",
    "años = [2018, 2019, 2020, 2021, 2022]\n",
    "ventas = [50000, 55000, 48000, 62000, 70000]\n",
    "\n",
    "plt.scatter(años, ventas, color='r')\n",
    "plt.title(\"Ventas Anuales (Diagrama de Dispersión)\")\n",
    "plt.xlabel(\"Año\")\n",
    "plt.ylabel(\"Ventas (en USD)\")\n",
    "plt.show()\n"
   ]
  },
  {
   "cell_type": "code",
   "execution_count": 33,
   "metadata": {
    "colab": {
     "base_uri": "https://localhost:8080/",
     "height": 407
    },
    "executionInfo": {
     "elapsed": 923,
     "status": "ok",
     "timestamp": 1737313503469,
     "user": {
      "displayName": "Alessandro Batini",
      "userId": "00936546318751086458"
     },
     "user_tz": -60
    },
    "id": "guXd_qNH8_tq",
    "outputId": "de1105a2-482b-46fc-e307-4d05efda38ce"
   },
   "outputs": [
    {
     "data": {
      "image/png": "[encoded data removed]",
      "text/plain": [
       "<Figure size 1000x800 with 4 Axes>"
      ]
     },
     "metadata": {},
     "output_type": "display_data"
    }
   ],
   "source": [
    "#plt.subplots() Permite crear múltiples subplots en una sola ventana.\n",
    "\n",
    "fig, axs = plt.subplots(2, 2, figsize=(10, 8))\n",
    "\n",
    "x = [2018, 2019, 2020, 2021, 2022]\n",
    "y = [50000, 55000, 48000, 62000, 70000]\n",
    "\n",
    "# Gráfico de líneas\n",
    "axs[0, 0].plot(x, y, marker='o')\n",
    "axs[0, 0].set_title(\"Ventas Anuales\")\n",
    "\n",
    "# Histograma\n",
    "axs[0, 1].hist(y, bins=5, color='g', edgecolor='black')\n",
    "axs[0, 1].set_title(\"Histograma de Ventas\")\n",
    "\n",
    "# Dispersión\n",
    "axs[1, 0].scatter(x, y, color='r', marker='x')\n",
    "axs[1, 0].set_title(\"Diagrama de Dispersión\")\n",
    "\n",
    "# Gráfico de barras\n",
    "axs[1, 1].bar(x, y, color='c')\n",
    "axs[1, 1].set_title(\"Ventas por Año\")\n",
    "\n",
    "plt.tight_layout()\n",
    "plt.show()\n"
   ]
  }
 ],
 "metadata": {
  "colab": {
   "authorship_tag": "ABX9TyPCs60lMICbVwLlmyk42B4M",
   "provenance": []
  },
  "kernelspec": {
   "display_name": "Python 3",
   "name": "python3"
  },
  "language_info": {
   "codemirror_mode": {
    "name": "ipython",
    "version": 3
   },
   "file_extension": ".py",
   "mimetype": "text/x-python",
   "name": "python",
   "nbconvert_exporter": "python",
   "pygments_lexer": "ipython3",
   "version": "3.12.1"
  }
 },
 "nbformat": 4,
 "nbformat_minor": 0
}
