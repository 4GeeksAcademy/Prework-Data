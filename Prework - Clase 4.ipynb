{
 "cells": [
  {
   "cell_type": "markdown",
   "metadata": {
    "id": "pYdSyMgxud5W"
   },
   "source": [
    "# **Librerías en Python**\n",
    "\n",
    "En Python, las librerías son colecciones de módulos y paquetes que ofrecen funcionalidades específicas y ya listas para usar. Gracias a ellas, podemos aprovechar código ya creado por otros desarrolladores para agilizar y optimizar nuestro trabajo.\n",
    "\n",
    "NumPy (cálculo numérico)\n",
    "Pandas (análisis y manipulación de datos)\n",
    "Matplotlib (visualización de datos)\n",
    "Scikit-learn (aprendizaje automático)\n",
    "\n",
    "Usar librerías nos proporciona herramientas más potentes que las de Python básico, sobre todo para tareas de análisis de datos y ciencia de datos."
   ]
  },
  {
   "cell_type": "code",
   "execution_count": 1,
   "metadata": {
    "id": "9HEVWms4u2xB"
   },
   "outputs": [],
   "source": [
    "import numpy  # Importa la librería completa.\n",
    "\n"
   ]
  },
  {
   "cell_type": "code",
   "execution_count": 38,
   "metadata": {
    "id": "DN2hEeflvBhC"
   },
   "outputs": [],
   "source": [
    "import numpy as np  # Crea un alias \"np\"\n",
    "#Ahora, cuando necesitamos usar NumPy, basta escribir np en lugar de numpy, por ejemplo: np.array(...)."
   ]
  },
  {
   "cell_type": "markdown",
   "metadata": {
    "id": "kO-8NXrxvPJu"
   },
   "source": [
    "[testo del link](https://)**importancia de la documentacion**\n",
    "\n",
    "La documentación oficial es el mejor lugar para aprender las funcionalidades de cada librería.\n",
    "\n",
    "[Numpy](https://numpy.org/doc/stable/user/whatisnumpy.html)\n",
    "\n",
    "[Pandas](https://pandas.pydata.org/docs/index.html)\n",
    "\n",
    "[Matplotlib](https://matplotlib.org/stable/)"
   ]
  },
  {
   "cell_type": "markdown",
   "metadata": {
    "id": "xBCjCSA9win8"
   },
   "source": [
    "# **NumPy**\n",
    "\n",
    "NumPy (Numerical Python) es una de las librerías fundamentales para el cálculo numérico en Python. Su objeto principal es el array (ndarray), que permite realizar operaciones matemáticas de forma muy eficiente.\n",
    "\n",
    "\n"
   ]
  },
  {
   "cell_type": "code",
   "execution_count": 39,
   "metadata": {
    "colab": {
     "base_uri": "https://localhost:8080/"
    },
    "executionInfo": {
     "elapsed": 296,
     "status": "ok",
     "timestamp": 1737394976730,
     "user": {
      "displayName": "Alessandro Batini",
      "userId": "00936546318751086458"
     },
     "user_tz": -60
    },
    "id": "0igK7x0Swq83",
    "outputId": "fe2f3f93-6afc-4b9b-dfbd-486628489418"
   },
   "outputs": [
    {
     "name": "stdout",
     "output_type": "stream",
     "text": [
      "[1 2 3 4]\n"
     ]
    }
   ],
   "source": [
    "#numpy.array() Convierte listas (o listas de listas) de Python en un array (ndarray) de NumPy.\n",
    "import numpy as np\n",
    "\n",
    "# Creamos una lista en Python\n",
    "lista_python = [1, 2, 3, 4]\n",
    "\n",
    "# Convertimos la lista a un array de NumPy\n",
    "array_np = np.array(lista_python)\n",
    "print(array_np)"
   ]
  },
  {
   "cell_type": "code",
   "execution_count": 40,
   "metadata": {
    "colab": {
     "base_uri": "https://localhost:8080/"
    },
    "executionInfo": {
     "elapsed": 4,
     "status": "ok",
     "timestamp": 1737310801463,
     "user": {
      "displayName": "Alessandro Batini",
      "userId": "00936546318751086458"
     },
     "user_tz": -60
    },
    "id": "oMJsJRzbv8io",
    "outputId": "b82b46d4-89ab-40b1-def9-b962674fe929"
   },
   "outputs": [
    {
     "name": "stdout",
     "output_type": "stream",
     "text": [
      "[0. 0. 0. 0. 0.]\n",
      "[[0. 0.]\n",
      " [0. 0.]\n",
      " [0. 0.]]\n"
     ]
    }
   ],
   "source": [
    "# numpy.zeros() Crea un array lleno de ceros del tamaño y forma que especifiquemos.\n",
    "# Array de 1D con 5 ceros\n",
    "array_ceros_1d = np.zeros(5)\n",
    "print(array_ceros_1d)\n",
    "\n",
    "# Array de 2D con 3 filas y 2 columnas\n",
    "array_ceros_2d = np.zeros((3, 2))\n",
    "print(array_ceros_2d)"
   ]
  },
  {
   "cell_type": "code",
   "execution_count": 41,
   "metadata": {
    "colab": {
     "base_uri": "https://localhost:8080/"
    },
    "executionInfo": {
     "elapsed": 598,
     "status": "ok",
     "timestamp": 1737310856010,
     "user": {
      "displayName": "Alessandro Batini",
      "userId": "00936546318751086458"
     },
     "user_tz": -60
    },
    "id": "qpYZmxJ1y3qK",
    "outputId": "a7f6c2d6-6cac-4fba-9ade-d3a70548d2e0"
   },
   "outputs": [
    {
     "name": "stdout",
     "output_type": "stream",
     "text": [
      "[1. 1. 1. 1. 1.]\n",
      "[[1. 1. 1.]\n",
      " [1. 1. 1.]]\n"
     ]
    }
   ],
   "source": [
    "#numpy.ones() Crea un array lleno de unos con la forma especificada.\n",
    "# Array de 1D con 5 unos\n",
    "array_unos_1d = np.ones(5)\n",
    "print(array_unos_1d)\n",
    "\n",
    "# Array de 2D con 2 filas y 3 columnas\n",
    "array_unos_2d = np.ones((2, 3))\n",
    "print(array_unos_2d)"
   ]
  },
  {
   "cell_type": "code",
   "execution_count": 42,
   "metadata": {
    "colab": {
     "base_uri": "https://localhost:8080/"
    },
    "executionInfo": {
     "elapsed": 315,
     "status": "ok",
     "timestamp": 1737310917136,
     "user": {
      "displayName": "Alessandro Batini",
      "userId": "00936546318751086458"
     },
     "user_tz": -60
    },
    "id": "PJ8FX2tgzEYJ",
    "outputId": "095a1af8-9c63-4789-8256-b2410e2d8b6d"
   },
   "outputs": [
    {
     "name": "stdout",
     "output_type": "stream",
     "text": [
      "[0 1 2 3 4 5 6 7 8 9]\n",
      "[2 4 6 8]\n"
     ]
    }
   ],
   "source": [
    "# numpy.arange() Genera un array con valores en un rango determinado (parecido a range() de Python, pero devuelve un ndarray).\n",
    "\n",
    "array_rango = np.arange(10)\n",
    "print(array_rango)\n",
    "\n",
    "# Se pueden especificar inicio, fin y paso\n",
    "array_rango_pasos = np.arange(2, 10, 2)\n",
    "print(array_rango_pasos)"
   ]
  },
  {
   "cell_type": "markdown",
   "metadata": {
    "id": "pO56FmjqzjqY"
   },
   "source": [
    "**Indexación y slicing**\n",
    "\n",
    "Podemos acceder a elementos individuales o subconjuntos de arrays (slicing), igual que con listas en Python, pero sobre arrays de NumPy."
   ]
  },
  {
   "cell_type": "code",
   "execution_count": 43,
   "metadata": {
    "colab": {
     "base_uri": "https://localhost:8080/"
    },
    "executionInfo": {
     "elapsed": 600,
     "status": "ok",
     "timestamp": 1737311075548,
     "user": {
      "displayName": "Alessandro Batini",
      "userId": "00936546318751086458"
     },
     "user_tz": -60
    },
    "id": "964F6MlIzul1",
    "outputId": "41f8d74d-1bff-4eeb-8308-b0c210dee9e4"
   },
   "outputs": [
    {
     "name": "stdout",
     "output_type": "stream",
     "text": [
      "30\n",
      "[20 30 40]\n"
     ]
    }
   ],
   "source": [
    "arr = np.array([10, 20, 30, 40, 50])\n",
    "\n",
    "# Indexación: acceder al elemento en posición 2 (empieza en 0)\n",
    "elem = arr[2]\n",
    "print(elem)\n",
    "\n",
    "# Slicing: elementos desde la posición 1 hasta la 3 (sin incluir la 4)\n",
    "sub_arr = arr[1:4]\n",
    "print(sub_arr)\n"
   ]
  },
  {
   "cell_type": "markdown",
   "metadata": {
    "id": "QJ2mSOAjz4u1"
   },
   "source": [
    "**Broadcasting**\n",
    "\n",
    "NumPy permite operaciones entre un array y un escalar (o entre arrays de distintas dimensiones)"
   ]
  },
  {
   "cell_type": "code",
   "execution_count": 44,
   "metadata": {
    "colab": {
     "base_uri": "https://localhost:8080/"
    },
    "executionInfo": {
     "elapsed": 271,
     "status": "ok",
     "timestamp": 1737311171138,
     "user": {
      "displayName": "Alessandro Batini",
      "userId": "00936546318751086458"
     },
     "user_tz": -60
    },
    "id": "HdoK2v1R0BAW",
    "outputId": "653ba2d2-6910-424a-99b6-5fa73db961f6"
   },
   "outputs": [
    {
     "name": "stdout",
     "output_type": "stream",
     "text": [
      "[11 12 13 14]\n",
      "[[2 3 4 5]\n",
      " [3 4 5 6]\n",
      " [4 5 6 7]]\n"
     ]
    }
   ],
   "source": [
    "# Broadcasting: se suma 10 a cada elemento del array.\n",
    "arr = np.array([1, 2, 3, 4])\n",
    "arr_sumado = arr + 10\n",
    "print(arr_sumado)\n",
    "\n",
    "otro_arr = np.array([[1], [2], [3]])\n",
    "resultado = otro_arr + arr  # (3x1) + (4,) se expande automáticamente\n",
    "print(resultado)\n",
    "\n"
   ]
  },
  {
   "cell_type": "markdown",
   "metadata": {
    "id": "q6lrR5Iv0Tfc"
   },
   "source": [
    "**Funciones matemáticas y estadísticas**"
   ]
  },
  {
   "cell_type": "code",
   "execution_count": 45,
   "metadata": {
    "colab": {
     "base_uri": "https://localhost:8080/"
    },
    "executionInfo": {
     "elapsed": 575,
     "status": "ok",
     "timestamp": 1737311241302,
     "user": {
      "displayName": "Alessandro Batini",
      "userId": "00936546318751086458"
     },
     "user_tz": -60
    },
    "id": "Tfp2X0WG0Wsi",
    "outputId": "4e745bcf-22b9-4d71-871d-a27689f1f064"
   },
   "outputs": [
    {
     "name": "stdout",
     "output_type": "stream",
     "text": [
      "3.0\n"
     ]
    }
   ],
   "source": [
    "#numpy.mean() Calcula el promedio (media) de los elementos en un array.\n",
    "valores = np.array([1, 2, 3, 4, 5])\n",
    "promedio = np.mean(valores)\n",
    "print(promedio)"
   ]
  },
  {
   "cell_type": "code",
   "execution_count": 46,
   "metadata": {
    "colab": {
     "base_uri": "https://localhost:8080/"
    },
    "executionInfo": {
     "elapsed": 555,
     "status": "ok",
     "timestamp": 1737311266533,
     "user": {
      "displayName": "Alessandro Batini",
      "userId": "00936546318751086458"
     },
     "user_tz": -60
    },
    "id": "LxBT8fQA0ejt",
    "outputId": "a2aaee76-2fd8-42eb-ab64-066271ff1ff7"
   },
   "outputs": [
    {
     "name": "stdout",
     "output_type": "stream",
     "text": [
      "15\n"
     ]
    }
   ],
   "source": [
    "#numpy.sum() Calcula la suma de todos los elementos de un array.\n",
    "valores = np.array([1, 2, 3, 4, 5])\n",
    "suma = np.sum(valores)\n",
    "print(suma)\n"
   ]
  },
  {
   "cell_type": "code",
   "execution_count": 47,
   "metadata": {
    "colab": {
     "base_uri": "https://localhost:8080/"
    },
    "executionInfo": {
     "elapsed": 281,
     "status": "ok",
     "timestamp": 1737311294005,
     "user": {
      "displayName": "Alessandro Batini",
      "userId": "00936546318751086458"
     },
     "user_tz": -60
    },
    "id": "2Xq8WUmW0le_",
    "outputId": "ed9a816f-6cda-4cec-f370-42c7f02e87ce"
   },
   "outputs": [
    {
     "name": "stdout",
     "output_type": "stream",
     "text": [
      "1.4142135623730951\n"
     ]
    }
   ],
   "source": [
    "#numpy.std() Retorna la desviación estándar de los elementos de un array.\n",
    "valores = np.array([1, 2, 3, 4, 5])\n",
    "desviacion = np.std(valores)\n",
    "print(desviacion)\n"
   ]
  },
  {
   "cell_type": "markdown",
   "metadata": {
    "id": "3wFXOWoL0yqv"
   },
   "source": [
    "**arrays multidimensionales**"
   ]
  },
  {
   "cell_type": "code",
   "execution_count": 48,
   "metadata": {
    "colab": {
     "base_uri": "https://localhost:8080/"
    },
    "executionInfo": {
     "elapsed": 325,
     "status": "ok",
     "timestamp": 1737311367706,
     "user": {
      "displayName": "Alessandro Batini",
      "userId": "00936546318751086458"
     },
     "user_tz": -60
    },
    "id": "wV4POEHQ00e_",
    "outputId": "22ae48ce-f830-4ed0-978b-65fe42db4903"
   },
   "outputs": [
    {
     "name": "stdout",
     "output_type": "stream",
     "text": [
      "[1 2 3 4 5 6]\n",
      "[[1 2 3]\n",
      " [4 5 6]]\n"
     ]
    }
   ],
   "source": [
    "#reshape() Cambia la forma (dimensiones) de un array sin alterar sus datos.\n",
    "matriz = np.arange(1, 7)\n",
    "print(matriz)\n",
    "\n",
    "matriz_2d = matriz.reshape((2, 3))\n",
    "print(matriz_2d)\n"
   ]
  },
  {
   "cell_type": "code",
   "execution_count": 49,
   "metadata": {
    "colab": {
     "base_uri": "https://localhost:8080/"
    },
    "executionInfo": {
     "elapsed": 693,
     "status": "ok",
     "timestamp": 1737311411159,
     "user": {
      "displayName": "Alessandro Batini",
      "userId": "00936546318751086458"
     },
     "user_tz": -60
    },
    "id": "eiQ3F2ln1BlT",
    "outputId": "d2047b01-0cf0-47f5-dc33-31db733618e4"
   },
   "outputs": [
    {
     "name": "stdout",
     "output_type": "stream",
     "text": [
      "[[1 4]\n",
      " [2 5]\n",
      " [3 6]]\n"
     ]
    }
   ],
   "source": [
    "#transpose() Transpone un array (intercambia filas por columnas).\n",
    "matriz_2d = np.array([[1, 2, 3], [4, 5, 6]])\n",
    "matriz_transpuesta = matriz_2d.transpose()\n",
    "print(matriz_transpuesta)"
   ]
  },
  {
   "cell_type": "markdown",
   "metadata": {
    "id": "lGpbil8h1ZLc"
   },
   "source": [
    "**álgebra lineal con NumPy**"
   ]
  },
  {
   "cell_type": "code",
   "execution_count": 50,
   "metadata": {
    "colab": {
     "base_uri": "https://localhost:8080/"
    },
    "executionInfo": {
     "elapsed": 201,
     "status": "ok",
     "timestamp": 1737395558539,
     "user": {
      "displayName": "Alessandro Batini",
      "userId": "00936546318751086458"
     },
     "user_tz": -60
    },
    "id": "o7fRHZda1bxe",
    "outputId": "b147fcda-a176-4633-ac66-3ab04a6cd17e"
   },
   "outputs": [
    {
     "name": "stdout",
     "output_type": "stream",
     "text": [
      "[[19 22]\n",
      " [43 50]]\n",
      "[[19 22]\n",
      " [43 50]]\n"
     ]
    }
   ],
   "source": [
    "#numpy.dot() / @ Realiza la multiplicación de matrices.\n",
    "\n",
    "A = np.array([[1, 2], [3, 4]])\n",
    "B = np.array([[5, 6], [7, 8]])\n",
    "\n",
    "# Opción 1: usando dot()\n",
    "C1 = np.dot(A, B)\n",
    "\n",
    "# Opción 2: usando el operador @\n",
    "C2 = A @ B\n",
    "\n",
    "print(C1)\n",
    "print(C2)\n"
   ]
  },
  {
   "cell_type": "code",
   "execution_count": 51,
   "metadata": {
    "colab": {
     "base_uri": "https://localhost:8080/"
    },
    "executionInfo": {
     "elapsed": 592,
     "status": "ok",
     "timestamp": 1737311599656,
     "user": {
      "displayName": "Alessandro Batini",
      "userId": "00936546318751086458"
     },
     "user_tz": -60
    },
    "id": "a0gYRyAq1wLy",
    "outputId": "9cb58ed8-e98f-4478-df86-5e8d57187dce"
   },
   "outputs": [
    {
     "name": "stdout",
     "output_type": "stream",
     "text": [
      "[[-2.   1. ]\n",
      " [ 1.5 -0.5]]\n"
     ]
    }
   ],
   "source": [
    "#numpy.linalg.inv() Calcula la inversa de una matriz .\n",
    "matriz = np.array([[1, 2], [3, 4]])\n",
    "inversa = np.linalg.inv(matriz)\n",
    "print(inversa)"
   ]
  },
  {
   "cell_type": "markdown",
   "metadata": {
    "id": "6q5X04Wx16rh"
   },
   "source": [
    "# **Pandas**\n",
    "\n",
    "Pandas es una librería especializada en la manipulación y análisis de datos. Sus dos estructuras principales son:\n",
    "\n",
    "Series (1D) Es un array unidimensional con etiquetas (índices).\n",
    "DataFrame (2D) Estructura tabular con filas y columnas, como una hoja de cálculo."
   ]
  },
  {
   "cell_type": "code",
   "execution_count": 52,
   "metadata": {
    "colab": {
     "base_uri": "https://localhost:8080/"
    },
    "executionInfo": {
     "elapsed": 776,
     "status": "ok",
     "timestamp": 1737395771709,
     "user": {
      "displayName": "Alessandro Batini",
      "userId": "00936546318751086458"
     },
     "user_tz": -60
    },
    "id": "oJSSjN703L9S",
    "outputId": "9e610d34-5948-4020-b865-63b2460cd056"
   },
   "outputs": [
    {
     "name": "stdout",
     "output_type": "stream",
     "text": [
      "0    10\n",
      "1    20\n",
      "2    30\n",
      "3    40\n",
      "dtype: int64\n"
     ]
    }
   ],
   "source": [
    "import pandas as pd\n",
    "# pd.Series() crea una serie con índice automático o personalizado.\n",
    "serie = pd.Series([10, 20, 30, 40])\n",
    "print(serie)"
   ]
  },
  {
   "cell_type": "code",
   "execution_count": 53,
   "metadata": {
    "colab": {
     "base_uri": "https://localhost:8080/",
     "height": 161
    },
    "executionInfo": {
     "elapsed": 209,
     "status": "ok",
     "timestamp": 1737395781345,
     "user": {
      "displayName": "Alessandro Batini",
      "userId": "00936546318751086458"
     },
     "user_tz": -60
    },
    "id": "alquOqgT3ULp",
    "outputId": "6aa97c71-3fc4-440b-9841-9a6a2e00ab0a"
   },
   "outputs": [
    {
     "name": "stdout",
     "output_type": "stream",
     "text": [
      "{'Nombre': ['Ana', 'Luis', 'Carlos'], 'Edad': [23, 30, 40]}\n"
     ]
    },
    {
     "data": {
      "text/html": [
       "<div>\n",
       "<style scoped>\n",
       "    .dataframe tbody tr th:only-of-type {\n",
       "        vertical-align: middle;\n",
       "    }\n",
       "\n",
       "    .dataframe tbody tr th {\n",
       "        vertical-align: top;\n",
       "    }\n",
       "\n",
       "    .dataframe thead th {\n",
       "        text-align: right;\n",
       "    }\n",
       "</style>\n",
       "<table border=\"1\" class=\"dataframe\">\n",
       "  <thead>\n",
       "    <tr style=\"text-align: right;\">\n",
       "      <th></th>\n",
       "      <th>Nombre</th>\n",
       "      <th>Edad</th>\n",
       "    </tr>\n",
       "  </thead>\n",
       "  <tbody>\n",
       "    <tr>\n",
       "      <th>0</th>\n",
       "      <td>Ana</td>\n",
       "      <td>23</td>\n",
       "    </tr>\n",
       "    <tr>\n",
       "      <th>1</th>\n",
       "      <td>Luis</td>\n",
       "      <td>30</td>\n",
       "    </tr>\n",
       "    <tr>\n",
       "      <th>2</th>\n",
       "      <td>Carlos</td>\n",
       "      <td>40</td>\n",
       "    </tr>\n",
       "  </tbody>\n",
       "</table>\n",
       "</div>"
      ],
      "text/plain": [
       "   Nombre  Edad\n",
       "0     Ana    23\n",
       "1    Luis    30\n",
       "2  Carlos    40"
      ]
     },
     "execution_count": 53,
     "metadata": {},
     "output_type": "execute_result"
    }
   ],
   "source": [
    "# Crear un DataFrame a partir de un diccionario  con  pd.DataFrame() (crea una tabla con columnas y filas.)\n",
    "\n",
    "data = {\n",
    "    \"Nombre\": [\"Ana\", \"Luis\", \"Carlos\"],\n",
    "    \"Edad\": [23, 30, 40]\n",
    "}\n",
    "df = pd.DataFrame(data)\n",
    "print(data)\n",
    "(df)\n"
   ]
  },
  {
   "cell_type": "code",
   "execution_count": 54,
   "metadata": {
    "id": "fPhXTMY_3vml"
   },
   "outputs": [],
   "source": [
    "#pd.read_csv() y pd.read_excel()  Para importar datos desde archivos CSV o Excel."
   ]
  },
  {
   "cell_type": "code",
   "execution_count": 55,
   "metadata": {
    "colab": {
     "base_uri": "https://localhost:8080/",
     "height": 215
    },
    "executionInfo": {
     "elapsed": 207,
     "status": "ok",
     "timestamp": 1737395921887,
     "user": {
      "displayName": "Alessandro Batini",
      "userId": "00936546318751086458"
     },
     "user_tz": -60
    },
    "id": "f1oP4l664Chh",
    "outputId": "8b2048b7-014a-4f3e-a90f-211582c17a09"
   },
   "outputs": [
    {
     "name": "stdout",
     "output_type": "stream",
     "text": [
      "   A  B  C\n",
      "0  1  4  7\n",
      "1  2  5  8\n",
      "2  3  6  9\n"
     ]
    },
    {
     "data": {
      "text/html": [
       "<div>\n",
       "<style scoped>\n",
       "    .dataframe tbody tr th:only-of-type {\n",
       "        vertical-align: middle;\n",
       "    }\n",
       "\n",
       "    .dataframe tbody tr th {\n",
       "        vertical-align: top;\n",
       "    }\n",
       "\n",
       "    .dataframe thead th {\n",
       "        text-align: right;\n",
       "    }\n",
       "</style>\n",
       "<table border=\"1\" class=\"dataframe\">\n",
       "  <thead>\n",
       "    <tr style=\"text-align: right;\">\n",
       "      <th></th>\n",
       "      <th>A</th>\n",
       "      <th>B</th>\n",
       "      <th>C</th>\n",
       "    </tr>\n",
       "  </thead>\n",
       "  <tbody>\n",
       "    <tr>\n",
       "      <th>0</th>\n",
       "      <td>1</td>\n",
       "      <td>4</td>\n",
       "      <td>7</td>\n",
       "    </tr>\n",
       "    <tr>\n",
       "      <th>1</th>\n",
       "      <td>2</td>\n",
       "      <td>5</td>\n",
       "      <td>8</td>\n",
       "    </tr>\n",
       "    <tr>\n",
       "      <th>2</th>\n",
       "      <td>3</td>\n",
       "      <td>6</td>\n",
       "      <td>9</td>\n",
       "    </tr>\n",
       "  </tbody>\n",
       "</table>\n",
       "</div>"
      ],
      "text/plain": [
       "   A  B  C\n",
       "0  1  4  7\n",
       "1  2  5  8\n",
       "2  3  6  9"
      ]
     },
     "metadata": {},
     "output_type": "display_data"
    }
   ],
   "source": [
    "df = pd.DataFrame({\n",
    "    \"A\": [1, 2, 3],\n",
    "    \"B\": [4, 5, 6],\n",
    "    \"C\": [7, 8, 9]\n",
    "})\n",
    "\n",
    "print(df)\n",
    "display(df)\n"
   ]
  },
  {
   "cell_type": "code",
   "execution_count": 56,
   "metadata": {
    "colab": {
     "base_uri": "https://localhost:8080/"
    },
    "executionInfo": {
     "elapsed": 189,
     "status": "ok",
     "timestamp": 1737395924533,
     "user": {
      "displayName": "Alessandro Batini",
      "userId": "00936546318751086458"
     },
     "user_tz": -60
    },
    "id": "n1de6yYB4h5U",
    "outputId": "2173568b-fb53-4dfa-ac88-4708e95c99a9"
   },
   "outputs": [
    {
     "name": "stdout",
     "output_type": "stream",
     "text": [
      "0    1\n",
      "1    2\n",
      "2    3\n",
      "Name: A, dtype: int64\n"
     ]
    }
   ],
   "source": [
    "# Seleccionar una columna\n",
    "columna_A = df[\"A\"]\n",
    "print(columna_A)"
   ]
  },
  {
   "cell_type": "code",
   "execution_count": 57,
   "metadata": {
    "colab": {
     "base_uri": "https://localhost:8080/"
    },
    "executionInfo": {
     "elapsed": 159,
     "status": "ok",
     "timestamp": 1737395933757,
     "user": {
      "displayName": "Alessandro Batini",
      "userId": "00936546318751086458"
     },
     "user_tz": -60
    },
    "id": "PvNlZp-f4kbU",
    "outputId": "d4b651e2-3171-481c-ad57-065b353eb35c"
   },
   "outputs": [
    {
     "name": "stdout",
     "output_type": "stream",
     "text": [
      "   A  B\n",
      "0  1  4\n",
      "1  2  5\n",
      "2  3  6\n"
     ]
    }
   ],
   "source": [
    "# Seleccionar múltiples columnas\n",
    "ab = df[[\"A\", \"B\"]]\n",
    "print(ab)"
   ]
  },
  {
   "cell_type": "code",
   "execution_count": 58,
   "metadata": {
    "colab": {
     "base_uri": "https://localhost:8080/"
    },
    "executionInfo": {
     "elapsed": 178,
     "status": "ok",
     "timestamp": 1737395963914,
     "user": {
      "displayName": "Alessandro Batini",
      "userId": "00936546318751086458"
     },
     "user_tz": -60
    },
    "id": "c4M_r0sF4mJE",
    "outputId": "bb934185-ecdf-43fb-d51a-25ca41984418"
   },
   "outputs": [
    {
     "name": "stdout",
     "output_type": "stream",
     "text": [
      "A    1\n",
      "B    4\n",
      "C    7\n",
      "Name: 0, dtype: int64\n"
     ]
    }
   ],
   "source": [
    "# Seleccionar por etiqueta de fila (loc)\n",
    "fila_0 = df.loc[0]\n",
    "print(fila_0)"
   ]
  },
  {
   "cell_type": "code",
   "execution_count": 59,
   "metadata": {
    "colab": {
     "base_uri": "https://localhost:8080/"
    },
    "executionInfo": {
     "elapsed": 302,
     "status": "ok",
     "timestamp": 1737312432018,
     "user": {
      "displayName": "Alessandro Batini",
      "userId": "00936546318751086458"
     },
     "user_tz": -60
    },
    "id": "CSWrEJxC4o4r",
    "outputId": "ef50ef7a-2e5e-49b7-dab6-98f73f9bed3b"
   },
   "outputs": [
    {
     "name": "stdout",
     "output_type": "stream",
     "text": [
      "A    2\n",
      "B    5\n",
      "C    8\n",
      "Name: 1, dtype: int64\n"
     ]
    }
   ],
   "source": [
    "# Seleccionar por índice de fila (iloc)\n",
    "fila_1 = df.iloc[1]\n",
    "print(fila_1)"
   ]
  },
  {
   "cell_type": "code",
   "execution_count": 60,
   "metadata": {
    "colab": {
     "base_uri": "https://localhost:8080/"
    },
    "executionInfo": {
     "elapsed": 161,
     "status": "ok",
     "timestamp": 1737396017177,
     "user": {
      "displayName": "Alessandro Batini",
      "userId": "00936546318751086458"
     },
     "user_tz": -60
    },
    "id": "ofKGMkMz5FSW",
    "outputId": "7c643a68-9e49-478a-a4e5-83f60ab66ba4"
   },
   "outputs": [
    {
     "name": "stdout",
     "output_type": "stream",
     "text": [
      "   A  B  C\n",
      "1  2  5  8\n",
      "2  3  6  9\n"
     ]
    }
   ],
   "source": [
    "# Filtrar filas donde A > 1  # df[df[\"A\"] > 1] selecciona las filas que cumplen esa condición.\n",
    "\n",
    "filtro = df[df[\"A\"] > 1]\n",
    "print(filtro)\n"
   ]
  },
  {
   "cell_type": "code",
   "execution_count": 61,
   "metadata": {
    "colab": {
     "base_uri": "https://localhost:8080/"
    },
    "executionInfo": {
     "elapsed": 163,
     "status": "ok",
     "timestamp": 1737396034649,
     "user": {
      "displayName": "Alessandro Batini",
      "userId": "00936546318751086458"
     },
     "user_tz": -60
    },
    "id": "mve6gvtk5McQ",
    "outputId": "faff5ec6-4a06-4062-d1d9-f0292cc2ec4e"
   },
   "outputs": [
    {
     "name": "stdout",
     "output_type": "stream",
     "text": [
      "   A  B  C\n",
      "2  3  6  9\n",
      "1  2  5  8\n",
      "0  1  4  7\n"
     ]
    }
   ],
   "source": [
    "# Ordenar por la columna B en forma descendente  # sort_values() ordena el DataFrame por la columna especificada.\n",
    "\n",
    "df_ordenado = df.sort_values(\"B\", ascending=False)\n",
    "print(df_ordenado)"
   ]
  },
  {
   "cell_type": "markdown",
   "metadata": {
    "id": "-ZNIVzyg6W_d"
   },
   "source": [
    "**Limpieza de datos**"
   ]
  },
  {
   "cell_type": "code",
   "execution_count": 62,
   "metadata": {
    "colab": {
     "base_uri": "https://localhost:8080/"
    },
    "executionInfo": {
     "elapsed": 281,
     "status": "ok",
     "timestamp": 1737312871726,
     "user": {
      "displayName": "Alessandro Batini",
      "userId": "00936546318751086458"
     },
     "user_tz": -60
    },
    "id": "INqI_NQS6Y31",
    "outputId": "913e2c8b-d1ae-499c-be84-618d6249ce6c"
   },
   "outputs": [
    {
     "name": "stdout",
     "output_type": "stream",
     "text": [
      "     A    B\n",
      "0  1.0  4.0\n",
      "1  NaN  5.0\n",
      "2  3.0  NaN\n"
     ]
    }
   ],
   "source": [
    "#dropna() Elimina filas (o columnas) que contengan valores nulos (NaN).\n",
    "\n",
    "df_nan = pd.DataFrame({\n",
    "    \"A\": [1, None, 3],\n",
    "    \"B\": [4, 5, None]\n",
    "})\n",
    "\n",
    "print(df_nan)\n"
   ]
  },
  {
   "cell_type": "code",
   "execution_count": 63,
   "metadata": {
    "colab": {
     "base_uri": "https://localhost:8080/"
    },
    "executionInfo": {
     "elapsed": 283,
     "status": "ok",
     "timestamp": 1737312875498,
     "user": {
      "displayName": "Alessandro Batini",
      "userId": "00936546318751086458"
     },
     "user_tz": -60
    },
    "id": "T5Ez6-d-6qsy",
    "outputId": "0f4ba0e0-e4cc-43df-8044-e1f5ba41e177"
   },
   "outputs": [
    {
     "name": "stdout",
     "output_type": "stream",
     "text": [
      "     A    B\n",
      "0  1.0  4.0\n"
     ]
    }
   ],
   "source": [
    "df_sin_na = df_nan.dropna()\n",
    "print(df_sin_na)"
   ]
  },
  {
   "cell_type": "code",
   "execution_count": 64,
   "metadata": {
    "colab": {
     "base_uri": "https://localhost:8080/"
    },
    "executionInfo": {
     "elapsed": 572,
     "status": "ok",
     "timestamp": 1737312916455,
     "user": {
      "displayName": "Alessandro Batini",
      "userId": "00936546318751086458"
     },
     "user_tz": -60
    },
    "id": "AVUGtXa-6tj3",
    "outputId": "4ea97ea1-6b42-4b5d-cf70-940895062ae1"
   },
   "outputs": [
    {
     "name": "stdout",
     "output_type": "stream",
     "text": [
      "     A    B\n",
      "0  1.0  4.0\n",
      "1  0.0  5.0\n",
      "2  3.0  0.0\n"
     ]
    }
   ],
   "source": [
    "#fillna() Reemplaza los valores nulos con un valor específico.\n",
    "df_rellenado = df_nan.fillna(0)  #  reemplaza todos los NaN con 0.\n",
    "\n",
    "print(df_rellenado)\n"
   ]
  },
  {
   "cell_type": "code",
   "execution_count": 65,
   "metadata": {
    "colab": {
     "base_uri": "https://localhost:8080/"
    },
    "executionInfo": {
     "elapsed": 2,
     "status": "ok",
     "timestamp": 1737312977206,
     "user": {
      "displayName": "Alessandro Batini",
      "userId": "00936546318751086458"
     },
     "user_tz": -60
    },
    "id": "HnlxAeMS65R1",
    "outputId": "d7722190-199e-4f2d-b93a-5e4b907d3ca7"
   },
   "outputs": [
    {
     "name": "stdout",
     "output_type": "stream",
     "text": [
      "   A  B\n",
      "0  1  4\n",
      "1  2  5\n",
      "2  2  5\n",
      "3  3  6\n"
     ]
    }
   ],
   "source": [
    "# drop_duplicates() Elimina filas duplicadas.\n",
    "df_dup = pd.DataFrame({\n",
    "    \"A\": [1, 2, 2, 3],\n",
    "    \"B\": [4, 5, 5, 6]\n",
    "})\n",
    "\n",
    "print(df_dup)"
   ]
  },
  {
   "cell_type": "code",
   "execution_count": 66,
   "metadata": {
    "colab": {
     "base_uri": "https://localhost:8080/"
    },
    "executionInfo": {
     "elapsed": 264,
     "status": "ok",
     "timestamp": 1737312987163,
     "user": {
      "displayName": "Alessandro Batini",
      "userId": "00936546318751086458"
     },
     "user_tz": -60
    },
    "id": "oZWn0zDj7Fvx",
    "outputId": "a99cb48f-c0f5-4f09-b4d9-86edfe65df2d"
   },
   "outputs": [
    {
     "name": "stdout",
     "output_type": "stream",
     "text": [
      "   A  B\n",
      "0  1  4\n",
      "1  2  5\n",
      "3  3  6\n"
     ]
    }
   ],
   "source": [
    "df_sin_dup = df_dup.drop_duplicates()\n",
    "print(df_sin_dup)"
   ]
  },
  {
   "cell_type": "code",
   "execution_count": 67,
   "metadata": {
    "colab": {
     "base_uri": "https://localhost:8080/",
     "height": 300
    },
    "executionInfo": {
     "elapsed": 596,
     "status": "ok",
     "timestamp": 1737313123186,
     "user": {
      "displayName": "Alessandro Batini",
      "userId": "00936546318751086458"
     },
     "user_tz": -60
    },
    "id": "bqDrEXTw7gEI",
    "outputId": "6347e95f-61a4-48d1-d3cc-c9f6108c87b4"
   },
   "outputs": [
    {
     "data": {
      "text/html": [
       "<div>\n",
       "<style scoped>\n",
       "    .dataframe tbody tr th:only-of-type {\n",
       "        vertical-align: middle;\n",
       "    }\n",
       "\n",
       "    .dataframe tbody tr th {\n",
       "        vertical-align: top;\n",
       "    }\n",
       "\n",
       "    .dataframe thead th {\n",
       "        text-align: right;\n",
       "    }\n",
       "</style>\n",
       "<table border=\"1\" class=\"dataframe\">\n",
       "  <thead>\n",
       "    <tr style=\"text-align: right;\">\n",
       "      <th></th>\n",
       "      <th>A</th>\n",
       "      <th>B</th>\n",
       "    </tr>\n",
       "  </thead>\n",
       "  <tbody>\n",
       "    <tr>\n",
       "      <th>count</th>\n",
       "      <td>4.000000</td>\n",
       "      <td>4.000000</td>\n",
       "    </tr>\n",
       "    <tr>\n",
       "      <th>mean</th>\n",
       "      <td>2.000000</td>\n",
       "      <td>5.000000</td>\n",
       "    </tr>\n",
       "    <tr>\n",
       "      <th>std</th>\n",
       "      <td>0.816497</td>\n",
       "      <td>0.816497</td>\n",
       "    </tr>\n",
       "    <tr>\n",
       "      <th>min</th>\n",
       "      <td>1.000000</td>\n",
       "      <td>4.000000</td>\n",
       "    </tr>\n",
       "    <tr>\n",
       "      <th>25%</th>\n",
       "      <td>1.750000</td>\n",
       "      <td>4.750000</td>\n",
       "    </tr>\n",
       "    <tr>\n",
       "      <th>50%</th>\n",
       "      <td>2.000000</td>\n",
       "      <td>5.000000</td>\n",
       "    </tr>\n",
       "    <tr>\n",
       "      <th>75%</th>\n",
       "      <td>2.250000</td>\n",
       "      <td>5.250000</td>\n",
       "    </tr>\n",
       "    <tr>\n",
       "      <th>max</th>\n",
       "      <td>3.000000</td>\n",
       "      <td>6.000000</td>\n",
       "    </tr>\n",
       "  </tbody>\n",
       "</table>\n",
       "</div>"
      ],
      "text/plain": [
       "              A         B\n",
       "count  4.000000  4.000000\n",
       "mean   2.000000  5.000000\n",
       "std    0.816497  0.816497\n",
       "min    1.000000  4.000000\n",
       "25%    1.750000  4.750000\n",
       "50%    2.000000  5.000000\n",
       "75%    2.250000  5.250000\n",
       "max    3.000000  6.000000"
      ]
     },
     "execution_count": 67,
     "metadata": {},
     "output_type": "execute_result"
    }
   ],
   "source": [
    "#describe() Proporciona estadísticas descriptivas para cada columna numérica.\n",
    "df_dup.describe()"
   ]
  },
  {
   "cell_type": "markdown",
   "metadata": {
    "id": "yrKVVeyv8HXv"
   },
   "source": [
    "# **Matplotlib**\n",
    "Matplotlib es la librería principal para la visualización de datos en Python."
   ]
  },
  {
   "cell_type": "code",
   "execution_count": 68,
   "metadata": {
    "colab": {
     "base_uri": "https://localhost:8080/",
     "height": 472
    },
    "executionInfo": {
     "elapsed": 416,
     "status": "ok",
     "timestamp": 1737397329864,
     "user": {
      "displayName": "Alessandro Batini",
      "userId": "00936546318751086458"
     },
     "user_tz": -60
    },
    "id": "PO3EVAxc8Pk5",
    "outputId": "41fe5fa0-6e03-4e0f-e71d-461a3ff406d9"
   },
   "outputs": [
    {
     "data": {
      "image/png": "[encoded data removed]",
      "text/plain": [
       "<Figure size 640x480 with 1 Axes>"
      ]
     },
     "metadata": {},
     "output_type": "display_data"
    }
   ],
   "source": [
    "import matplotlib.pyplot as plt\n",
    "\n",
    "#plot() Crea gráficos de líneas.\n",
    "\n",
    "x = [1, 2, 3, 4]\n",
    "y = [10, 20, 15, 25]\n",
    "\n",
    "plt.plot(x, y)   # plot() dibuja una línea usando los valores de x e y\n",
    "plt.title(\"Ejemplo de Gráfico de Líneas\")  # título\n",
    "plt.xlabel(\"Eje X\")  # etiqueta del eje X\n",
    "plt.ylabel(\"Eje Y\")  # etiqueta del eje Y\n",
    "plt.show()  # muestra el gráfico en pantalla\n"
   ]
  },
  {
   "cell_type": "code",
   "execution_count": 69,
   "metadata": {
    "colab": {
     "base_uri": "https://localhost:8080/",
     "height": 472
    },
    "executionInfo": {
     "elapsed": 357,
     "status": "ok",
     "timestamp": 1737313376221,
     "user": {
      "displayName": "Alessandro Batini",
      "userId": "00936546318751086458"
     },
     "user_tz": -60
    },
    "id": "7CtPeUIq8eWJ",
    "outputId": "522ec294-ac41-44bc-a925-bfddd1c226d8"
   },
   "outputs": [
    {
     "data": {
      "image/png": "[encoded data removed]",
      "text/plain": [
       "<Figure size 640x480 with 1 Axes>"
      ]
     },
     "metadata": {},
     "output_type": "display_data"
    }
   ],
   "source": [
    "#hist() Genera histogramas, que sirven para mostrar la distribución de un conjunto de datos.\n",
    "\n",
    "datos = [1, 2, 2, 3, 3, 3, 4, 4, 5]\n",
    "plt.hist(datos, bins=5)\n",
    "# hist() crea un histograma; bins especifica el número de barras\n",
    "plt.title(\"Histograma de Datos\")\n",
    "plt.xlabel(\"Valor\")\n",
    "plt.ylabel(\"Frecuencia\")\n",
    "plt.show()\n"
   ]
  },
  {
   "cell_type": "code",
   "execution_count": 70,
   "metadata": {
    "colab": {
     "base_uri": "https://localhost:8080/",
     "height": 472
    },
    "executionInfo": {
     "elapsed": 562,
     "status": "ok",
     "timestamp": 1737313439583,
     "user": {
      "displayName": "Alessandro Batini",
      "userId": "00936546318751086458"
     },
     "user_tz": -60
    },
    "id": "UJDFOGw98w1l",
    "outputId": "285a6094-96f5-42e7-92a4-bcd04ce2b2dd"
   },
   "outputs": [
    {
     "data": {
      "image/png": "[encoded data removed]",
      "text/plain": [
       "<Figure size 640x480 with 1 Axes>"
      ]
     },
     "metadata": {},
     "output_type": "display_data"
    }
   ],
   "source": [
    "#scatter() Crea diagramas de dispersión, útiles para ver la relación entre dos variables.\n",
    "\n",
    "x = [1, 2, 3, 4, 5]\n",
    "y = [2, 4, 1, 8, 7]\n",
    "\n",
    "plt.scatter(x, y)\n",
    "# scatter() dibuja puntos (x,y)\n",
    "plt.title(\"Diagrama de Dispersión\")\n",
    "plt.xlabel(\"Variable X\")\n",
    "plt.ylabel(\"Variable Y\")\n",
    "plt.show()\n"
   ]
  },
  {
   "cell_type": "code",
   "execution_count": 71,
   "metadata": {
    "colab": {
     "base_uri": "https://localhost:8080/",
     "height": 407
    },
    "executionInfo": {
     "elapsed": 923,
     "status": "ok",
     "timestamp": 1737313503469,
     "user": {
      "displayName": "Alessandro Batini",
      "userId": "00936546318751086458"
     },
     "user_tz": -60
    },
    "id": "guXd_qNH8_tq",
    "outputId": "de1105a2-482b-46fc-e307-4d05efda38ce"
   },
   "outputs": [
    {
     "data": {
      "image/png": "[encoded data removed]",
      "text/plain": [
       "<Figure size 1000x400 with 2 Axes>"
      ]
     },
     "metadata": {},
     "output_type": "display_data"
    }
   ],
   "source": [
    "#plt.subplots() Permite crear múltiples subplots en una sola ventana.\n",
    "\n",
    "fig, axs = plt.subplots(1, 2, figsize=(10, 4))\n",
    "# Crea 1 fila y 2 columnas de subgráficos\n",
    "# fig es la figura, axs es una lista de ejes (subplots)\n",
    "\n",
    "# subplot 1\n",
    "axs[0].plot([1, 2, 3], [4, 5, 6])\n",
    "axs[0].set_title(\"Gráfico 1\")\n",
    "\n",
    "# subplot 2\n",
    "axs[1].hist([1, 1, 2, 3, 3, 3])\n",
    "axs[1].set_title(\"Gráfico 2\")\n",
    "\n",
    "plt.tight_layout()  # Ajusta espacios para evitar solapamientos\n",
    "plt.show()\n"
   ]
  },
  {
   "cell_type": "code",
   "execution_count": 72,
   "metadata": {
    "colab": {
     "base_uri": "https://localhost:8080/",
     "height": 564
    },
    "executionInfo": {
     "elapsed": 453,
     "status": "ok",
     "timestamp": 1737397604387,
     "user": {
      "displayName": "Alessandro Batini",
      "userId": "00936546318751086458"
     },
     "user_tz": -60
    },
    "id": "VeA6f-0g8x1z",
    "outputId": "cb63a5a3-f33a-467d-c6ff-62c26e8237d7"
   },
   "outputs": [
    {
     "data": {
      "image/png": "[encoded data removed]",
      "text/plain": [
       "<Figure size 800x600 with 1 Axes>"
      ]
     },
     "metadata": {},
     "output_type": "display_data"
    }
   ],
   "source": [
    "# datos de ejemplo\n",
    "x = [1, 2, 3, 4, 5]\n",
    "y_scatter = [2, 3, 5, 7, 11] #Scatter\n",
    "y_line = [1, 2, 3, 4, 5]  #Line\n",
    "\n",
    "# crear la figura\n",
    "fig, ax = plt.subplots(figsize=(8, 6))\n",
    "\n",
    "# crear scatter\n",
    "ax.scatter(x, y_scatter, color='red', label='Scatter', alpha=0.6)\n",
    "\n",
    "# crear linea\n",
    "ax.plot(x, y_line, color='blue', linestyle='-', linewidth=2, label='Linea')\n",
    "\n",
    "# titulo y etiquetas\n",
    "ax.set_xlabel('X-axis')\n",
    "ax.set_ylabel('Y-axis')\n",
    "ax.set_title('linea + scatter')\n",
    "\n",
    "#legend\n",
    "ax.legend()\n",
    "\n",
    "# reticulo\n",
    "ax.grid(True, linestyle='--', alpha=0.7)\n",
    "\n",
    "# Display the plot\n",
    "# plt.show()"
   ]
  }
 ],
 "metadata": {
  "colab": {
   "authorship_tag": "ABX9TyPCs60lMICbVwLlmyk42B4M",
   "provenance": []
  },
  "kernelspec": {
   "display_name": "Python 3",
   "name": "python3"
  },
  "language_info": {
   "codemirror_mode": {
    "name": "ipython",
    "version": 3
   },
   "file_extension": ".py",
   "mimetype": "text/x-python",
   "name": "python",
   "nbconvert_exporter": "python",
   "pygments_lexer": "ipython3",
   "version": "3.12.1"
  }
 },
 "nbformat": 4,
 "nbformat_minor": 0
}
